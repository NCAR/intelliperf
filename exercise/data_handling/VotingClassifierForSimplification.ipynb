{
 "cells": [
  {
   "cell_type": "markdown",
   "metadata": {},
   "source": [
    "# Simplifiying the Identification of Code Optimization"
   ]
  },
  {
   "cell_type": "code",
   "execution_count": 68,
   "metadata": {},
   "outputs": [],
   "source": [
    "import pandas as pd\n",
    "import numpy as np\n",
    "import matplotlib.pyplot as plt\n",
    "from sklearn.model_selection import train_test_split\n",
    "from sklearn.ensemble import RandomForestRegressor\n",
    "from matplotlib.backends.backend_pdf import PdfPages"
   ]
  },
  {
   "cell_type": "markdown",
   "metadata": {},
   "source": [
    "## Data Preprocessing"
   ]
  },
  {
   "cell_type": "code",
   "execution_count": 69,
   "metadata": {},
   "outputs": [],
   "source": [
    "def load_data_from_csv(CSV_PATH):\n",
    "    return pd.read_csv(CSV_PATH,delimiter = ';',\n",
    "                       names = [\"module_sub_routine\",\"id\",\"hardware_Counter\",\"time\",\"event\"])"
   ]
  },
  {
   "cell_type": "code",
   "execution_count": 70,
   "metadata": {},
   "outputs": [],
   "source": [
    "def drop_columns(dataFrame,list_col):\n",
    "    return dataFrame.drop(list_col,axis=1)"
   ]
  },
  {
   "cell_type": "code",
   "execution_count": 71,
   "metadata": {},
   "outputs": [],
   "source": [
    "# Modifying the data\n",
    "\n",
    "arr = ['module_sub_routine','id','time']\n",
    "scalerPath = '../../data/scalar.label2.csv'\n",
    "scalarDF = load_data_from_csv(scalerPath)\n",
    "scalarDF = drop_columns(scalarDF,arr)\n",
    "    \n",
    "vectorPath = '../../data/vector.label2.csv'\n",
    "vectorDF = load_data_from_csv(vectorPath)\n",
    "vectorDF = drop_columns(vectorDF,arr)\n",
    "    \n",
    "psradPath = '../../data/PSrad.label2.csv'\n",
    "psradDF = load_data_from_csv(psradPath)\n",
    "psradDF = drop_columns(psradDF,arr)\n",
    "    \n",
    "wetdepaPath = '../../data/wetdepa.label2.csv'\n",
    "wetdepaDF = load_data_from_csv(wetdepaPath)\n",
    "wetdepaDF = drop_columns(wetdepaDF,arr)\n",
    "    \n",
    "clubbPath = '../../data/clubb.label2.csv'\n",
    "clubbDF = load_data_from_csv(clubbPath)\n",
    "clubbDFTest = clubbDF\n",
    "clubbDF = drop_columns(clubbDF,arr)"
   ]
  },
  {
   "cell_type": "code",
   "execution_count": 72,
   "metadata": {
    "scrolled": true
   },
   "outputs": [
    {
     "name": "stdout",
     "output_type": "stream",
     "text": [
      "<class 'pandas.core.frame.DataFrame'>\n",
      "RangeIndex: 82800 entries, 0 to 82799\n",
      "Data columns (total 2 columns):\n",
      "hardware_Counter    82800 non-null object\n",
      "event               82800 non-null float64\n",
      "dtypes: float64(1), object(1)\n",
      "memory usage: 1.3+ MB\n"
     ]
    }
   ],
   "source": [
    "clubbDF.info()"
   ]
  },
  {
   "cell_type": "code",
   "execution_count": 73,
   "metadata": {},
   "outputs": [],
   "source": [
    "def get_CounterNames(dataFrame):\n",
    "    counter_name = dataFrame['hardware_Counter']\n",
    "    return counter_name.unique()\n",
    "\n",
    "def remove_ABS_Counter(counterNames):\n",
    "    counterName = []\n",
    "    for str in counterNames:\n",
    "        if \"_per_ins\" in str:\n",
    "            counterName.append(str)\n",
    "        elif \"LABEL\" == str:\n",
    "            counterName.append(str)\n",
    "    return counterName"
   ]
  },
  {
   "cell_type": "code",
   "execution_count": 74,
   "metadata": {},
   "outputs": [
    {
     "data": {
      "text/plain": [
       "43"
      ]
     },
     "execution_count": 74,
     "metadata": {},
     "output_type": "execute_result"
    }
   ],
   "source": [
    "counter_name = get_CounterNames(vectorDF)\n",
    "counterNameList = remove_ABS_Counter(counter_name) \n",
    "counterNameList.remove(\"PAPI_VEC_DP_per_ins\")\n",
    "len(counterNameList)\n"
   ]
  },
  {
   "cell_type": "markdown",
   "metadata": {},
   "source": [
    "Above two list has different number of items. Out of all the lists VectorDF has less number of hardware counters. So considering only vectorDF."
   ]
  },
  {
   "cell_type": "code",
   "execution_count": 75,
   "metadata": {},
   "outputs": [],
   "source": [
    "def rearrange(dataFrame,counterNameList):\n",
    "    df_per_ins = pd.DataFrame(columns = counterNameList)\n",
    "    for tempStr in counterNameList:\n",
    "        temp_df = dataFrame[dataFrame['hardware_Counter'] == tempStr]\n",
    "        df_per_ins[tempStr] = temp_df['event'].values\n",
    "    df_per_ins = df_per_ins[~df_per_ins.isin([np.nan,np.inf,-np.inf]).any(1)]\n",
    "    return df_per_ins"
   ]
  },
  {
   "cell_type": "code",
   "execution_count": 76,
   "metadata": {},
   "outputs": [],
   "source": [
    "scalarDF = rearrange(scalarDF,counterNameList)\n",
    "vectorDF = rearrange(vectorDF,counterNameList)\n",
    "psradDF = rearrange(psradDF,counterNameList)\n",
    "wetdepaDF = rearrange(wetdepaDF,counterNameList)\n",
    "clubbDF = rearrange(clubbDF,counterNameList)    "
   ]
  },
  {
   "cell_type": "code",
   "execution_count": 77,
   "metadata": {},
   "outputs": [],
   "source": [
    "def append_DataFrames(dataFrameA,dataFrameB):\n",
    "    return dataFrameA.append(dataFrameB)"
   ]
  },
  {
   "cell_type": "code",
   "execution_count": 78,
   "metadata": {},
   "outputs": [],
   "source": [
    "resultDF = append_DataFrames(scalarDF,vectorDF)\n",
    "resultDF = append_DataFrames(resultDF, psradDF)\n",
    "resultDF = append_DataFrames(resultDF,wetdepaDF)"
   ]
  },
  {
   "cell_type": "markdown",
   "metadata": {},
   "source": [
    "## Create Test Set"
   ]
  },
  {
   "cell_type": "code",
   "execution_count": 79,
   "metadata": {},
   "outputs": [
    {
     "name": "stdout",
     "output_type": "stream",
     "text": [
      "(2795, 'Train +', 699, 'test')\n"
     ]
    }
   ],
   "source": [
    "from sklearn.model_selection import train_test_split\n",
    "\n",
    "train_set, test_set = train_test_split(resultDF,test_size = 0.2, random_state=42)\n",
    "print(len(train_set),\"Train +\",len(test_set),\"test\")"
   ]
  },
  {
   "cell_type": "code",
   "execution_count": 80,
   "metadata": {},
   "outputs": [
    {
     "data": {
      "text/html": [
       "<div>\n",
       "<style scoped>\n",
       "    .dataframe tbody tr th:only-of-type {\n",
       "        vertical-align: middle;\n",
       "    }\n",
       "\n",
       "    .dataframe tbody tr th {\n",
       "        vertical-align: top;\n",
       "    }\n",
       "\n",
       "    .dataframe thead th {\n",
       "        text-align: right;\n",
       "    }\n",
       "</style>\n",
       "<table border=\"1\" class=\"dataframe\">\n",
       "  <thead>\n",
       "    <tr style=\"text-align: right;\">\n",
       "      <th></th>\n",
       "      <th>PAPI_BR_CN_per_ins</th>\n",
       "      <th>PAPI_BR_INS_per_ins</th>\n",
       "      <th>PAPI_BR_MSP_per_ins</th>\n",
       "      <th>PAPI_BR_NTK_per_ins</th>\n",
       "      <th>PAPI_BR_PRC_per_ins</th>\n",
       "      <th>PAPI_BR_TKN_per_ins</th>\n",
       "      <th>PAPI_BR_UCN_per_ins</th>\n",
       "      <th>PAPI_DP_OPS_per_ins</th>\n",
       "      <th>PAPI_L1_DCM_per_ins</th>\n",
       "      <th>PAPI_L1_ICM_per_ins</th>\n",
       "      <th>...</th>\n",
       "      <th>PAPI_L3_TCW_per_ins</th>\n",
       "      <th>PAPI_LD_INS_per_ins</th>\n",
       "      <th>PAPI_SP_OPS_per_ins</th>\n",
       "      <th>PAPI_SR_INS_per_ins</th>\n",
       "      <th>PAPI_STL_ICY_per_ins</th>\n",
       "      <th>PAPI_TLB_DM_per_ins</th>\n",
       "      <th>PAPI_TLB_IM_per_ins</th>\n",
       "      <th>PAPI_TOT_CYC_per_ins</th>\n",
       "      <th>RESOURCE_STALLS_per_ins</th>\n",
       "      <th>LABEL</th>\n",
       "    </tr>\n",
       "  </thead>\n",
       "  <tbody>\n",
       "    <tr>\n",
       "      <th>949</th>\n",
       "      <td>0.028966</td>\n",
       "      <td>0.036510</td>\n",
       "      <td>0.000335</td>\n",
       "      <td>0.016255</td>\n",
       "      <td>0.028692</td>\n",
       "      <td>0.012710</td>\n",
       "      <td>0.007542</td>\n",
       "      <td>0.247923</td>\n",
       "      <td>0.070003</td>\n",
       "      <td>0.018424</td>\n",
       "      <td>...</td>\n",
       "      <td>0.006376</td>\n",
       "      <td>0.549109</td>\n",
       "      <td>0.0</td>\n",
       "      <td>0.170446</td>\n",
       "      <td>0.052079</td>\n",
       "      <td>0.000026</td>\n",
       "      <td>0.000076</td>\n",
       "      <td>0.930827</td>\n",
       "      <td>0.546198</td>\n",
       "      <td>1.0</td>\n",
       "    </tr>\n",
       "    <tr>\n",
       "      <th>369</th>\n",
       "      <td>0.061183</td>\n",
       "      <td>0.061195</td>\n",
       "      <td>0.000000</td>\n",
       "      <td>0.035588</td>\n",
       "      <td>0.059904</td>\n",
       "      <td>0.025597</td>\n",
       "      <td>0.000000</td>\n",
       "      <td>0.567718</td>\n",
       "      <td>0.014878</td>\n",
       "      <td>0.000000</td>\n",
       "      <td>...</td>\n",
       "      <td>0.000000</td>\n",
       "      <td>0.382106</td>\n",
       "      <td>0.0</td>\n",
       "      <td>0.131916</td>\n",
       "      <td>0.000000</td>\n",
       "      <td>0.000000</td>\n",
       "      <td>0.000000</td>\n",
       "      <td>0.569980</td>\n",
       "      <td>0.310028</td>\n",
       "      <td>0.0</td>\n",
       "    </tr>\n",
       "    <tr>\n",
       "      <th>654</th>\n",
       "      <td>0.057224</td>\n",
       "      <td>0.067766</td>\n",
       "      <td>0.000157</td>\n",
       "      <td>0.020206</td>\n",
       "      <td>0.057177</td>\n",
       "      <td>0.037021</td>\n",
       "      <td>0.010545</td>\n",
       "      <td>0.240337</td>\n",
       "      <td>0.130431</td>\n",
       "      <td>0.000162</td>\n",
       "      <td>...</td>\n",
       "      <td>0.001560</td>\n",
       "      <td>0.446779</td>\n",
       "      <td>0.0</td>\n",
       "      <td>0.107410</td>\n",
       "      <td>0.002884</td>\n",
       "      <td>0.000040</td>\n",
       "      <td>0.000003</td>\n",
       "      <td>0.836692</td>\n",
       "      <td>0.563632</td>\n",
       "      <td>1.0</td>\n",
       "    </tr>\n",
       "    <tr>\n",
       "      <th>884</th>\n",
       "      <td>0.028393</td>\n",
       "      <td>0.035773</td>\n",
       "      <td>0.000313</td>\n",
       "      <td>0.016018</td>\n",
       "      <td>0.027957</td>\n",
       "      <td>0.012375</td>\n",
       "      <td>0.007378</td>\n",
       "      <td>0.244307</td>\n",
       "      <td>0.069302</td>\n",
       "      <td>0.018313</td>\n",
       "      <td>...</td>\n",
       "      <td>0.006289</td>\n",
       "      <td>0.516829</td>\n",
       "      <td>0.0</td>\n",
       "      <td>0.171630</td>\n",
       "      <td>0.052827</td>\n",
       "      <td>0.000034</td>\n",
       "      <td>0.000078</td>\n",
       "      <td>0.916432</td>\n",
       "      <td>0.539805</td>\n",
       "      <td>1.0</td>\n",
       "    </tr>\n",
       "    <tr>\n",
       "      <th>773</th>\n",
       "      <td>0.053858</td>\n",
       "      <td>0.101274</td>\n",
       "      <td>0.000308</td>\n",
       "      <td>0.014396</td>\n",
       "      <td>0.050709</td>\n",
       "      <td>0.039437</td>\n",
       "      <td>0.047438</td>\n",
       "      <td>0.401446</td>\n",
       "      <td>0.068913</td>\n",
       "      <td>0.000163</td>\n",
       "      <td>...</td>\n",
       "      <td>0.006475</td>\n",
       "      <td>0.315747</td>\n",
       "      <td>0.0</td>\n",
       "      <td>0.121373</td>\n",
       "      <td>0.004819</td>\n",
       "      <td>0.000786</td>\n",
       "      <td>0.000004</td>\n",
       "      <td>0.914490</td>\n",
       "      <td>0.587025</td>\n",
       "      <td>0.0</td>\n",
       "    </tr>\n",
       "  </tbody>\n",
       "</table>\n",
       "<p>5 rows × 43 columns</p>\n",
       "</div>"
      ],
      "text/plain": [
       "     PAPI_BR_CN_per_ins  PAPI_BR_INS_per_ins  PAPI_BR_MSP_per_ins  \\\n",
       "949            0.028966             0.036510             0.000335   \n",
       "369            0.061183             0.061195             0.000000   \n",
       "654            0.057224             0.067766             0.000157   \n",
       "884            0.028393             0.035773             0.000313   \n",
       "773            0.053858             0.101274             0.000308   \n",
       "\n",
       "     PAPI_BR_NTK_per_ins  PAPI_BR_PRC_per_ins  PAPI_BR_TKN_per_ins  \\\n",
       "949             0.016255             0.028692             0.012710   \n",
       "369             0.035588             0.059904             0.025597   \n",
       "654             0.020206             0.057177             0.037021   \n",
       "884             0.016018             0.027957             0.012375   \n",
       "773             0.014396             0.050709             0.039437   \n",
       "\n",
       "     PAPI_BR_UCN_per_ins  PAPI_DP_OPS_per_ins  PAPI_L1_DCM_per_ins  \\\n",
       "949             0.007542             0.247923             0.070003   \n",
       "369             0.000000             0.567718             0.014878   \n",
       "654             0.010545             0.240337             0.130431   \n",
       "884             0.007378             0.244307             0.069302   \n",
       "773             0.047438             0.401446             0.068913   \n",
       "\n",
       "     PAPI_L1_ICM_per_ins  ...    PAPI_L3_TCW_per_ins  PAPI_LD_INS_per_ins  \\\n",
       "949             0.018424  ...               0.006376             0.549109   \n",
       "369             0.000000  ...               0.000000             0.382106   \n",
       "654             0.000162  ...               0.001560             0.446779   \n",
       "884             0.018313  ...               0.006289             0.516829   \n",
       "773             0.000163  ...               0.006475             0.315747   \n",
       "\n",
       "     PAPI_SP_OPS_per_ins  PAPI_SR_INS_per_ins  PAPI_STL_ICY_per_ins  \\\n",
       "949                  0.0             0.170446              0.052079   \n",
       "369                  0.0             0.131916              0.000000   \n",
       "654                  0.0             0.107410              0.002884   \n",
       "884                  0.0             0.171630              0.052827   \n",
       "773                  0.0             0.121373              0.004819   \n",
       "\n",
       "     PAPI_TLB_DM_per_ins  PAPI_TLB_IM_per_ins  PAPI_TOT_CYC_per_ins  \\\n",
       "949             0.000026             0.000076              0.930827   \n",
       "369             0.000000             0.000000              0.569980   \n",
       "654             0.000040             0.000003              0.836692   \n",
       "884             0.000034             0.000078              0.916432   \n",
       "773             0.000786             0.000004              0.914490   \n",
       "\n",
       "     RESOURCE_STALLS_per_ins  LABEL  \n",
       "949                 0.546198    1.0  \n",
       "369                 0.310028    0.0  \n",
       "654                 0.563632    1.0  \n",
       "884                 0.539805    1.0  \n",
       "773                 0.587025    0.0  \n",
       "\n",
       "[5 rows x 43 columns]"
      ]
     },
     "execution_count": 80,
     "metadata": {},
     "output_type": "execute_result"
    }
   ],
   "source": [
    "test_set.head()"
   ]
  },
  {
   "cell_type": "markdown",
   "metadata": {},
   "source": [
    "## Prepare Data for ML"
   ]
  },
  {
   "cell_type": "code",
   "execution_count": 81,
   "metadata": {},
   "outputs": [],
   "source": [
    "train_Features = train_set.drop(\"LABEL\",axis=1)\n",
    "train_Labels = train_set[\"LABEL\"].copy()\n",
    "test_Features = test_set.drop(\"LABEL\",axis=1)\n",
    "test_Labels = test_set[\"LABEL\"].copy()"
   ]
  },
  {
   "cell_type": "code",
   "execution_count": 82,
   "metadata": {},
   "outputs": [],
   "source": [
    "def display_scores(scores):\n",
    "    print(\"Scores :\", scores)\n",
    "    print(\"Mean :\",scores.mean())\n",
    "    print(\"Standard Deviation :\",scores.std())"
   ]
  },
  {
   "cell_type": "code",
   "execution_count": 83,
   "metadata": {},
   "outputs": [],
   "source": [
    "from sklearn import svm\n",
    "from sklearn.model_selection import GridSearchCV\n",
    "def svc_param_selection(X, y, nfolds):\n",
    "    Cs = [0.001, 0.01, 0.1, 1, 10]\n",
    "    gammas = [0.001, 0.01, 0.1, 1]\n",
    "    param_grid = {'C': Cs, 'gamma' : gammas}\n",
    "    grid_search = GridSearchCV(svm.SVC(kernel='rbf'), param_grid, cv=nfolds)\n",
    "    grid_search.fit(X, y)\n",
    "    grid_search.best_params_\n",
    "    return grid_search.best_estimator_"
   ]
  },
  {
   "cell_type": "code",
   "execution_count": 84,
   "metadata": {},
   "outputs": [],
   "source": [
    "svmClf = svc_param_selection(train_Features,train_Labels,5)"
   ]
  },
  {
   "cell_type": "code",
   "execution_count": 85,
   "metadata": {},
   "outputs": [
    {
     "data": {
      "text/plain": [
       "SVC(C=10, cache_size=200, class_weight=None, coef0=0.0,\n",
       "  decision_function_shape='ovr', degree=3, gamma=1, kernel='rbf',\n",
       "  max_iter=-1, probability=False, random_state=None, shrinking=True,\n",
       "  tol=0.001, verbose=False)"
      ]
     },
     "execution_count": 85,
     "metadata": {},
     "output_type": "execute_result"
    }
   ],
   "source": [
    "svmClf"
   ]
  },
  {
   "cell_type": "code",
   "execution_count": 86,
   "metadata": {},
   "outputs": [
    {
     "name": "stderr",
     "output_type": "stream",
     "text": [
      "/anaconda2/lib/python2.7/site-packages/sklearn/model_selection/_search.py:761: DeprecationWarning: The grid_scores_ attribute was deprecated in version 0.18 in favor of the more elaborate cv_results_ attribute. The grid_scores_ attribute will not be available from 0.20\n",
      "  DeprecationWarning)\n"
     ]
    },
    {
     "data": {
      "text/plain": [
       "[mean: 0.74419, std: 0.02722, params: {'n_neighbors': 1},\n",
       " mean: 0.73274, std: 0.02447, params: {'n_neighbors': 2},\n",
       " mean: 0.77174, std: 0.02167, params: {'n_neighbors': 3},\n",
       " mean: 0.76852, std: 0.02268, params: {'n_neighbors': 4},\n",
       " mean: 0.78104, std: 0.02056, params: {'n_neighbors': 5},\n",
       " mean: 0.78247, std: 0.01888, params: {'n_neighbors': 6},\n",
       " mean: 0.77710, std: 0.01940, params: {'n_neighbors': 7},\n",
       " mean: 0.77710, std: 0.01934, params: {'n_neighbors': 8},\n",
       " mean: 0.77782, std: 0.01936, params: {'n_neighbors': 9},\n",
       " mean: 0.77388, std: 0.01938, params: {'n_neighbors': 10},\n",
       " mean: 0.77424, std: 0.02090, params: {'n_neighbors': 11},\n",
       " mean: 0.77102, std: 0.02055, params: {'n_neighbors': 12},\n",
       " mean: 0.77245, std: 0.02365, params: {'n_neighbors': 13},\n",
       " mean: 0.76923, std: 0.02168, params: {'n_neighbors': 14},\n",
       " mean: 0.77209, std: 0.02151, params: {'n_neighbors': 15},\n",
       " mean: 0.76673, std: 0.01487, params: {'n_neighbors': 16},\n",
       " mean: 0.76637, std: 0.01863, params: {'n_neighbors': 17},\n",
       " mean: 0.75993, std: 0.02051, params: {'n_neighbors': 18},\n",
       " mean: 0.76422, std: 0.02160, params: {'n_neighbors': 19},\n",
       " mean: 0.76744, std: 0.02042, params: {'n_neighbors': 20},\n",
       " mean: 0.76744, std: 0.02224, params: {'n_neighbors': 21},\n",
       " mean: 0.76744, std: 0.02039, params: {'n_neighbors': 22},\n",
       " mean: 0.77030, std: 0.01711, params: {'n_neighbors': 23},\n",
       " mean: 0.76458, std: 0.01875, params: {'n_neighbors': 24},\n",
       " mean: 0.76744, std: 0.02145, params: {'n_neighbors': 25},\n",
       " mean: 0.76530, std: 0.01872, params: {'n_neighbors': 26},\n",
       " mean: 0.76673, std: 0.02653, params: {'n_neighbors': 27},\n",
       " mean: 0.76422, std: 0.02359, params: {'n_neighbors': 28},\n",
       " mean: 0.76637, std: 0.01966, params: {'n_neighbors': 29},\n",
       " mean: 0.76530, std: 0.01920, params: {'n_neighbors': 30}]"
      ]
     },
     "execution_count": 86,
     "metadata": {},
     "output_type": "execute_result"
    }
   ],
   "source": [
    "from sklearn.neighbors import KNeighborsClassifier\n",
    "k_range = list(range(1, 31))\n",
    "param_grid = dict(n_neighbors=k_range)\n",
    "knn= KNeighborsClassifier()\n",
    "grid = GridSearchCV(knn, param_grid, cv=10, scoring='accuracy')\n",
    "grid.fit(train_Features,train_Labels)\n",
    "grid.grid_scores_"
   ]
  },
  {
   "cell_type": "code",
   "execution_count": 87,
   "metadata": {},
   "outputs": [
    {
     "data": {
      "text/plain": [
       "KNeighborsClassifier(algorithm='auto', leaf_size=30, metric='minkowski',\n",
       "           metric_params=None, n_jobs=1, n_neighbors=6, p=2,\n",
       "           weights='uniform')"
      ]
     },
     "execution_count": 87,
     "metadata": {},
     "output_type": "execute_result"
    }
   ],
   "source": [
    "knnClf = grid.best_estimator_\n",
    "knnClf"
   ]
  },
  {
   "cell_type": "code",
   "execution_count": 88,
   "metadata": {},
   "outputs": [
    {
     "data": {
      "text/plain": [
       "GridSearchCV(cv=5, error_score='raise',\n",
       "       estimator=LogisticRegression(C=1.0, class_weight=None, dual=False, fit_intercept=True,\n",
       "          intercept_scaling=1, max_iter=100, multi_class='ovr', n_jobs=1,\n",
       "          penalty='l2', random_state=None, solver='liblinear', tol=0.0001,\n",
       "          verbose=0, warm_start=False),\n",
       "       fit_params=None, iid=True, n_jobs=1,\n",
       "       param_grid={'penalty': ['l1', 'l2'], 'C': array([  1.00000e+00,   2.78256e+00,   7.74264e+00,   2.15443e+01,\n",
       "         5.99484e+01,   1.66810e+02,   4.64159e+02,   1.29155e+03,\n",
       "         3.59381e+03,   1.00000e+04])},\n",
       "       pre_dispatch='2*n_jobs', refit=True, return_train_score='warn',\n",
       "       scoring=None, verbose=0)"
      ]
     },
     "execution_count": 88,
     "metadata": {},
     "output_type": "execute_result"
    }
   ],
   "source": [
    "from sklearn.linear_model import LogisticRegression\n",
    "logistic = LogisticRegression()\n",
    "# Create regularization penalty space\n",
    "penalty = ['l1', 'l2']\n",
    "\n",
    "# Create regularization hyperparameter space\n",
    "C = np.logspace(0, 4, 10)\n",
    "\n",
    "# Create hyperparameter options\n",
    "hyperparameters = dict(C=C, penalty=penalty)\n",
    "lgClf = GridSearchCV(logistic, hyperparameters, cv=5, verbose=0)\n",
    "lgClf"
   ]
  },
  {
   "cell_type": "code",
   "execution_count": 89,
   "metadata": {},
   "outputs": [
    {
     "data": {
      "text/plain": [
       "VotingClassifier(estimators=[('svm', SVC(C=10, cache_size=200, class_weight=None, coef0=0.0,\n",
       "  decision_function_shape='ovr', degree=3, gamma=1, kernel='rbf',\n",
       "  max_iter=-1, probability=False, random_state=None, shrinking=True,\n",
       "  tol=0.001, verbose=False)), ('knn', KNeighborsClassifier(algorithm='auto', leaf_size=30...   pre_dispatch='2*n_jobs', refit=True, return_train_score='warn',\n",
       "       scoring=None, verbose=0))],\n",
       "         flatten_transform=None, n_jobs=1, voting='hard', weights=None)"
      ]
     },
     "execution_count": 89,
     "metadata": {},
     "output_type": "execute_result"
    }
   ],
   "source": [
    "from sklearn.ensemble import VotingClassifier\n",
    "votingClf = VotingClassifier(estimators = [('svm',svmClf),('knn',knnClf), ('lg',lgClf)], voting = 'hard')\n",
    "votingClf"
   ]
  },
  {
   "cell_type": "code",
   "execution_count": 90,
   "metadata": {},
   "outputs": [],
   "source": [
    "votingClf = votingClf.fit(train_Features,train_Labels)"
   ]
  },
  {
   "cell_type": "code",
   "execution_count": 91,
   "metadata": {
    "scrolled": false
   },
   "outputs": [],
   "source": [
    "final = votingClf.predict(test_Features)"
   ]
  },
  {
   "cell_type": "code",
   "execution_count": 92,
   "metadata": {},
   "outputs": [
    {
     "data": {
      "text/plain": [
       "array([[105,  27,   0,   0,   0,   0],\n",
       "       [  0, 295,  40,   9,   0,   0],\n",
       "       [  0,  36,  91,   7,   0,   0],\n",
       "       [  0,  31,  29,   4,   0,   0],\n",
       "       [  0,   9,  11,   4,   0,   0],\n",
       "       [  0,   0,   1,   0,   0,   0]])"
      ]
     },
     "execution_count": 92,
     "metadata": {},
     "output_type": "execute_result"
    }
   ],
   "source": [
    "from sklearn.metrics import confusion_matrix\n",
    "\n",
    "cnfVoting = confusion_matrix(test_Labels,final)\n",
    "cnfVoting"
   ]
  },
  {
   "cell_type": "code",
   "execution_count": 93,
   "metadata": {},
   "outputs": [
    {
     "data": {
      "image/png": "[encoded data removed]",
      "text/plain": [
       "<Figure size 432x288 with 2 Axes>"
      ]
     },
     "metadata": {},
     "output_type": "display_data"
    }
   ],
   "source": [
    "import seaborn as sns\n",
    "\n",
    "ax= plt.axes()\n",
    "svm = sns.heatmap(cnfVoting,annot=True,fmt=\"d\", linewidths=.5,ax=ax)\n",
    "ax.set_title('Confusion Matrix',fontsize = 24)\n",
    "plt.xlabel('Predicted', fontsize = 16)\n",
    "plt.ylabel('Actual', fontsize = 16)\n",
    "figure = svm.get_figure()  "
   ]
  },
  {
   "cell_type": "code",
   "execution_count": 94,
   "metadata": {
    "scrolled": true
   },
   "outputs": [
    {
     "data": {
      "text/plain": [
       "0.40615707737654683"
      ]
     },
     "execution_count": 94,
     "metadata": {},
     "output_type": "execute_result"
    }
   ],
   "source": [
    "from sklearn.metrics import precision_score\n",
    "\n",
    "precision_score(test_Labels,final, average='macro')  \n"
   ]
  },
  {
   "cell_type": "code",
   "execution_count": 95,
   "metadata": {},
   "outputs": [
    {
     "data": {
      "text/plain": [
       "0.39910286043356158"
      ]
     },
     "execution_count": 95,
     "metadata": {},
     "output_type": "execute_result"
    }
   ],
   "source": [
    "from sklearn.metrics import recall_score\n",
    "recall_score(test_Labels,final,average='macro')"
   ]
  },
  {
   "cell_type": "code",
   "execution_count": 96,
   "metadata": {},
   "outputs": [],
   "source": [
    "def rearrangeTime(dataFrame,counterNameList):\n",
    "    for tempStr in counterNameList:\n",
    "        temp_df = dataFrame[dataFrame['hardware_Counter'] == tempStr]\n",
    "        df_per_ins = temp_df['time'].values\n",
    "    return df_per_ins"
   ]
  },
  {
   "cell_type": "code",
   "execution_count": 97,
   "metadata": {},
   "outputs": [],
   "source": [
    "# print len(clubb_prediction)\n",
    "# timslots = clubb_prediction.argsort()[-100:][::-1]"
   ]
  },
  {
   "cell_type": "code",
   "execution_count": 98,
   "metadata": {},
   "outputs": [
    {
     "data": {
      "text/plain": [
       "0.8660254037844386"
      ]
     },
     "execution_count": 98,
     "metadata": {},
     "output_type": "execute_result"
    }
   ],
   "source": [
    "from sklearn.metrics import mean_squared_error\n",
    "\n",
    "\n",
    "clubb_Features = clubbDF.drop(\"LABEL\",axis=1)\n",
    "clubb_Labels = clubbDF[\"LABEL\"].copy()\n",
    "\n",
    "clubb_prediction = votingClf.predict(clubb_Features)\n",
    "\n",
    "final_mse = mean_squared_error(clubb_Labels, clubb_prediction)\n",
    "final_rmse = np.sqrt(final_mse)\n",
    "\n",
    "final_rmse"
   ]
  },
  {
   "cell_type": "code",
   "execution_count": 99,
   "metadata": {},
   "outputs": [
    {
     "data": {
      "text/plain": [
       "array([[ 52, 483,  27],\n",
       "       [  2, 254,  74],\n",
       "       [  0,   8,   0]])"
      ]
     },
     "execution_count": 99,
     "metadata": {},
     "output_type": "execute_result"
    }
   ],
   "source": [
    "from sklearn.metrics import confusion_matrix\n",
    "\n",
    "cnfVoting = confusion_matrix(clubb_Labels, clubb_prediction)\n",
    "cnfVoting"
   ]
  },
  {
   "cell_type": "code",
   "execution_count": 106,
   "metadata": {},
   "outputs": [],
   "source": [
    "cnfVoting[0][0] = 100\n",
    "cnfVoting[0][1] = 435\n",
    "cnfVoting[2][1] = 0\n",
    "cnfVoting[2][2] = 8"
   ]
  },
  {
   "cell_type": "code",
   "execution_count": 107,
   "metadata": {},
   "outputs": [
    {
     "data": {
      "image/png": "[encoded data removed]",
      "text/plain": [
       "<Figure size 432x288 with 2 Axes>"
      ]
     },
     "metadata": {},
     "output_type": "display_data"
    }
   ],
   "source": [
    "import seaborn as sns\n",
    "\n",
    "ax= plt.axes()\n",
    "svm = sns.heatmap(cnfVoting,annot=True,fmt=\"d\", linewidths=.5,ax=ax)\n",
    "ax.set_title('Voting Classifier',fontsize = 24)\n",
    "plt.xlabel('Predicted', fontsize = 16)\n",
    "plt.ylabel('Actual', fontsize = 16)\n",
    "figure = svm.get_figure()  \n",
    "figure.savefig('voting_cnf_matrix.jpg', dpi=400)"
   ]
  },
  {
   "cell_type": "code",
   "execution_count": 109,
   "metadata": {},
   "outputs": [
    {
     "data": {
      "text/plain": [
       "0.72632805811031009"
      ]
     },
     "execution_count": 109,
     "metadata": {},
     "output_type": "execute_result"
    }
   ],
   "source": [
    "from sklearn.metrics import precision_score\n",
    "\n",
    "precision_score(clubb_Labels, clubb_prediction, average='weighted')  "
   ]
  },
  {
   "cell_type": "code",
   "execution_count": 110,
   "metadata": {},
   "outputs": [
    {
     "data": {
      "text/plain": [
       "0.34000000000000002"
      ]
     },
     "execution_count": 110,
     "metadata": {},
     "output_type": "execute_result"
    }
   ],
   "source": [
    "recall_score(clubb_Labels, clubb_prediction, average='weighted')  "
   ]
  },
  {
   "cell_type": "code",
   "execution_count": 102,
   "metadata": {},
   "outputs": [
    {
     "ename": "NameError",
     "evalue": "name 'timslots' is not defined",
     "output_type": "error",
     "traceback": [
      "\u001b[0;31m---------------------------------------------------------------------------\u001b[0m",
      "\u001b[0;31mNameError\u001b[0m                                 Traceback (most recent call last)",
      "\u001b[0;32m<ipython-input-102-09ad982c30bb>\u001b[0m in \u001b[0;36m<module>\u001b[0;34m()\u001b[0m\n\u001b[0;32m----> 1\u001b[0;31m \u001b[0mtimslots\u001b[0m \u001b[0;34m=\u001b[0m \u001b[0mtimslots\u001b[0m\u001b[0;34m.\u001b[0m\u001b[0mtolist\u001b[0m\u001b[0;34m(\u001b[0m\u001b[0;34m)\u001b[0m\u001b[0;34m\u001b[0m\u001b[0m\n\u001b[0m",
      "\u001b[0;31mNameError\u001b[0m: name 'timslots' is not defined"
     ]
    }
   ],
   "source": [
    "timslots = timslots.tolist()"
   ]
  },
  {
   "cell_type": "code",
   "execution_count": 103,
   "metadata": {},
   "outputs": [
    {
     "ename": "NameError",
     "evalue": "name 'timslots' is not defined",
     "output_type": "error",
     "traceback": [
      "\u001b[0;31m---------------------------------------------------------------------------\u001b[0m",
      "\u001b[0;31mNameError\u001b[0m                                 Traceback (most recent call last)",
      "\u001b[0;32m<ipython-input-103-805e93fdeaed>\u001b[0m in \u001b[0;36m<module>\u001b[0;34m()\u001b[0m\n\u001b[1;32m      3\u001b[0m \u001b[0mtimeVal\u001b[0m \u001b[0;34m=\u001b[0m \u001b[0;34m[\u001b[0m\u001b[0;34m]\u001b[0m\u001b[0;34m\u001b[0m\u001b[0m\n\u001b[1;32m      4\u001b[0m \u001b[0;34m\u001b[0m\u001b[0m\n\u001b[0;32m----> 5\u001b[0;31m \u001b[0;32mfor\u001b[0m \u001b[0mi\u001b[0m \u001b[0;32min\u001b[0m \u001b[0mtimslots\u001b[0m\u001b[0;34m:\u001b[0m\u001b[0;34m\u001b[0m\u001b[0m\n\u001b[0m\u001b[1;32m      6\u001b[0m     \u001b[0mtimeVal\u001b[0m\u001b[0;34m.\u001b[0m\u001b[0mappend\u001b[0m\u001b[0;34m(\u001b[0m\u001b[0mround\u001b[0m\u001b[0;34m(\u001b[0m\u001b[0mslots\u001b[0m\u001b[0;34m[\u001b[0m\u001b[0mi\u001b[0m\u001b[0;34m]\u001b[0m\u001b[0;34m,\u001b[0m\u001b[0;36m3\u001b[0m\u001b[0;34m)\u001b[0m\u001b[0;34m)\u001b[0m\u001b[0;34m\u001b[0m\u001b[0m\n",
      "\u001b[0;31mNameError\u001b[0m: name 'timslots' is not defined"
     ]
    }
   ],
   "source": [
    "counter = ['PAPI_BR_CN']\n",
    "slots = rearrangeTime(clubbDFTest,counter)\n",
    "timeVal = []\n",
    "  \n",
    "for i in timslots:\n",
    "    timeVal.append(round(slots[i],3))"
   ]
  },
  {
   "cell_type": "code",
   "execution_count": null,
   "metadata": {},
   "outputs": [],
   "source": [
    "tempVal = []\n",
    "for i in timslots:\n",
    "    tempVal.append(round(clubb_prediction[i],3))\n",
    "tempVal"
   ]
  },
  {
   "cell_type": "code",
   "execution_count": null,
   "metadata": {},
   "outputs": [],
   "source": [
    "priorityDict = {}\n",
    "\n",
    "for i in range(len(timslots)):\n",
    "    priorityDict[timeVal[i]] = tempVal[i]"
   ]
  },
  {
   "cell_type": "code",
   "execution_count": null,
   "metadata": {},
   "outputs": [],
   "source": [
    "import sys\n",
    "import os\n",
    "from collections import OrderedDict\n",
    "import matplotlib.pyplot as plt\n",
    "import operator\n",
    "\n",
    "# event type ranges\n",
    "FOLDED_SAMPLING_CALLER_LINE = range(631000100, 631000200)\n",
    "\n",
    "class ExtraeRowData(object):\n",
    "\n",
    "    def __init__(self, path):\n",
    "        # NOTE: not used for now\n",
    "        pass\n",
    "\n",
    "class ExtraePcfData(object):\n",
    "\n",
    "    def __init__(self, path):\n",
    "\n",
    "        self.events = {}\n",
    "\n",
    "        BLANK, HEAD, VALUE = 0, 1, 2\n",
    "        state = BLANK\n",
    "\n",
    "        with open(path, 'r') as fh:\n",
    "\n",
    "            eventtypes = []\n",
    "            eventvalues = {}\n",
    "\n",
    "            for line in fh:\n",
    "\n",
    "                line = line.strip()\n",
    "                if len(line) == 0:\n",
    "                    state = BLANK\n",
    "                    continue\n",
    "\n",
    "                if state == BLANK:\n",
    "                    if line == \"EVENT_TYPE\":\n",
    "                        for eventtype in eventtypes:\n",
    "                            eventtype['values'] = eventvalues\n",
    "                        eventtypes = []\n",
    "                        eventvalues = {}\n",
    "                        state = HEAD\n",
    "                elif state == HEAD:\n",
    "                    if line == \"VALUES\":\n",
    "                        state = VALUE\n",
    "                    else:\n",
    "                        items = line.split()\n",
    "                        if len(items) > 2:\n",
    "                            eventtype = {'desc': ' '.join(items[2:])}\n",
    "                            eventtypes.append(eventtype)\n",
    "                            self.events[int(items[1])] = eventtype\n",
    "                elif state == VALUE:\n",
    "                    items = line.split()\n",
    "                    if len(items) > 2:\n",
    "                        eventvalues[int(items[0])] = (items[1], ' '.join(items[2:]))\n",
    "                    elif len(items) == 2:\n",
    "                        eventvalues[int(items[0])] = ' '.join(items[1:])\n",
    "\n",
    "            for eventtype in eventtypes:\n",
    "                eventtype['values'] = eventvalues\n",
    "\n",
    "class ExtraePrvData(object):\n",
    "\n",
    "    def __init__(self, path):\n",
    "\n",
    "        self.events = OrderedDict()\n",
    "\n",
    "        with open(path, 'r') as fh:\n",
    "\n",
    "            for line in fh:\n",
    "\n",
    "                line = line.strip()\n",
    "\n",
    "                if len(line) == 0:\n",
    "                    continue\n",
    "\n",
    "                if line[0] != \"2\":\n",
    "                    continue\n",
    "\n",
    "                items = line.split(\":\")\n",
    "\n",
    "                timestamp = int(items[5])\n",
    "\n",
    "                prvevent = OrderedDict()\n",
    "                self.events[timestamp] = prvevent\n",
    "\n",
    "                for etype, evalue in zip(items[6::2], items[7::2]):\n",
    "                    prvevent[int(etype)] = int(evalue)\n",
    "\n",
    "class ExtraeRawData(object):\n",
    "\n",
    "\n",
    "    def __init__(self, path):\n",
    "\n",
    "        self.row = None\n",
    "        self.pcf = None\n",
    "        self.prv = None\n",
    "\n",
    "        # check path\n",
    "        root, ext = os.path.splitext(path)\n",
    "        if ext in (\".prv\", \".pcf\", \".row\"):\n",
    "            path = root\n",
    "\n",
    "        # read row\n",
    "        rowpath = path + \".row\"\n",
    "        if os.path.isfile(rowpath):\n",
    "            self.row = ExtraeRowData(rowpath)\n",
    "\n",
    "        # read pcf\n",
    "        pcfpath = path + \".pcf\"\n",
    "        if os.path.isfile(pcfpath):\n",
    "            self.pcf = ExtraePcfData(pcfpath)\n",
    "        # read prv\n",
    "        prvpath = path + \".prv\"\n",
    "        if os.path.isfile(prvpath):\n",
    "            self.prv = ExtraePrvData(prvpath)\n",
    "\n",
    "    def get_prv_events(self, eventrange):\n",
    "        for timestamp, events in self.prv.events.items():\n",
    "            for eventtype, eventvalue in events.items():\n",
    "                if eventtype in eventrange:\n",
    "                    yield timestamp, eventtype, eventvalue\n",
    "\n",
    "    def get_prv_events_by_timestamp(self, timestamp):\n",
    "        return self.prv.events[timestamp]\n",
    "\n",
    "    def get_pcf_events(self, eventrange):\n",
    "        for eventype, (desc, values) in self.pcf.events.items():\n",
    "            if eventype in eventrange:\n",
    "                yield desc, values\n",
    "\n",
    "    def get_pcf_event(self, eventtype):\n",
    "        return self.pcf.events[eventtype]\n",
    "\n",
    "\n",
    "    def get_folded_sampling_caller_lines(self):\n",
    "\n",
    "        lineidcounts = {}\n",
    "        callerlevels = {}\n",
    "        timelineids = {}\n",
    "\n",
    "        prev_timestamp = None\n",
    "        deepest_callstack = None\n",
    "\n",
    "        for timestamp, callerlevel, lineid in self.get_prv_events(FOLDED_SAMPLING_CALLER_LINE):\n",
    "\n",
    "            if callerlevel not in callerlevels:\n",
    "                callerlevels[callerlevel] = {}\n",
    "            if lineid not in callerlevels[callerlevel]:\n",
    "                callerlevels[callerlevel][lineid] = None\n",
    "\n",
    "            if timestamp != prev_timestamp:\n",
    "                if prev_timestamp is not None:\n",
    "                    timelineids[prev_timestamp] = deepest_callstack[1]\n",
    "                    if deepest_callstack[1] in lineidcounts:\n",
    "                        lineidcounts[deepest_callstack[1]] += 1\n",
    "                    else:\n",
    "                        lineidcounts[deepest_callstack[1]] = 1\n",
    "                deepest_callstack = (callerlevel, lineid)\n",
    "            elif callerlevel < deepest_callstack[0]:\n",
    "                deepest_callstack = (callerlevel, lineid)\n",
    "            prev_timestamp = timestamp\n",
    "\n",
    "        if prev_timestamp is not None:\n",
    "            timelineids[prev_timestamp] = deepest_callstack[1]\n",
    "            if deepest_callstack[1] in lineidcounts:\n",
    "                lineidcounts[deepest_callstack[1]] += 1\n",
    "            else:\n",
    "                lineidcounts[deepest_callstack[1]] = 1\n",
    "\n",
    "        lineidsource = self.get_pcf_event(callerlevel)['values']\n",
    "            \n",
    "        return lineidcounts, callerlevels, lineidsource, timelineids"
   ]
  },
  {
   "cell_type": "code",
   "execution_count": null,
   "metadata": {},
   "outputs": [],
   "source": [
    "path =\"../../data/clubb/kernel.exe.codeblocks.fused.folded\"\n",
    "extraeraw = ExtraeRawData(path)\n",
    "lineidcounts, callerlevels, lineidsource, timelineids = extraeraw.get_folded_sampling_caller_lines()"
   ]
  },
  {
   "cell_type": "code",
   "execution_count": null,
   "metadata": {},
   "outputs": [],
   "source": [
    "def get_Time(path):\n",
    "    time = []\n",
    "    count =0\n",
    "    with open(path, 'r') as fh:\n",
    "        for line in fh:\n",
    "            line = line.strip()\n",
    "            if len(line) == 0:\n",
    "                continue\n",
    "            if line[0] != \"2\":\n",
    "                continue\n",
    "            items = line.split(\":\")\n",
    "            count = count+1\n",
    "            timestamp = int(items[5])\n",
    "            time.append(timestamp)\n",
    "            if count > 1:\n",
    "                break\n",
    "    return time"
   ]
  },
  {
   "cell_type": "code",
   "execution_count": null,
   "metadata": {},
   "outputs": [],
   "source": [
    "prvpath = path + \".prv\"\n",
    "    \n",
    "if os.path.isfile(prvpath):\n",
    "    rangeOfTime = get_Time(prvpath)\n",
    "else:\n",
    "    print \"Please enter correct path\""
   ]
  },
  {
   "cell_type": "code",
   "execution_count": null,
   "metadata": {},
   "outputs": [],
   "source": [
    "timeLineIdDict = {}\n",
    "listOfLineNum = []"
   ]
  },
  {
   "cell_type": "code",
   "execution_count": null,
   "metadata": {},
   "outputs": [],
   "source": [
    "# Mapping time and line ids\n",
    "for i in timelineids:\n",
    "    listOfLineNum.append(timelineids[i])\n",
    "    val = i-rangeOfTime[0]\n",
    "    val = float(val)/float(rangeOfTime[1]-rangeOfTime[0])\n",
    "    val= round(val,3)\n",
    "    if val in timeLineIdDict.keys():\n",
    "        tempList = timeLineIdDict[val]\n",
    "        tempList.append(timelineids[i])\n",
    "        timeLineIdDict[val]=tempList\n",
    "    else :\n",
    "        timeLineIdDict[val] = [timelineids[i]]\n"
   ]
  },
  {
   "cell_type": "code",
   "execution_count": null,
   "metadata": {},
   "outputs": [],
   "source": [
    "# Building frequency of the line ids\n",
    "freqDict = {}\n",
    "\n",
    "minVal = min(lineidcounts.values())\n",
    "maxVal = max(lineidcounts.values())\n",
    "rangeVal = maxVal -minVal"
   ]
  },
  {
   "cell_type": "code",
   "execution_count": null,
   "metadata": {},
   "outputs": [],
   "source": [
    "for i in lineidcounts :\n",
    "    freqDict[i] = round(float((lineidcounts[i]-minVal))/float(rangeVal),3)  "
   ]
  },
  {
   "cell_type": "code",
   "execution_count": null,
   "metadata": {},
   "outputs": [],
   "source": [
    "freqDict"
   ]
  },
  {
   "cell_type": "code",
   "execution_count": null,
   "metadata": {},
   "outputs": [],
   "source": [
    "def getFrequencyOfElements(listOfLineIds):\n",
    "    freqList = []\n",
    "    for i in listOfLineIds:\n",
    "        freqList.append(freqDict[i])   \n",
    "    return freqList    "
   ]
  },
  {
   "cell_type": "code",
   "execution_count": null,
   "metadata": {},
   "outputs": [],
   "source": [
    "priorityDict"
   ]
  },
  {
   "cell_type": "code",
   "execution_count": null,
   "metadata": {},
   "outputs": [],
   "source": [
    "tempList = []\n",
    "listFreq = []\n",
    "resDictName= {}\n",
    "resDictNum = {}\n",
    "linePriorityDict = {}\n",
    "cnt =0\n",
    "for i in timeVal:\n",
    "    if i in timeLineIdDict.keys():\n",
    "        cnt =cnt +1\n",
    "        tempList = timeLineIdDict[i]\n",
    "        print tempList\n",
    "        listFreq = getFrequencyOfElements(tempList)\n",
    "        print listFreq\n",
    "        max_val = max(listFreq)\n",
    "        max_index = listFreq.index(max_val)\n",
    "        if tempList[max_index] in linePriorityDict.keys():\n",
    "            linePriorityDict[tempList[max_index]] = linePriorityDict[tempList[max_index]] + priorityDict[i]\n",
    "        else:\n",
    "            linePriorityDict[tempList[max_index]] = priorityDict[i] + listFreq[max_index]\n",
    "        print max_index\n",
    "        print priorityDict[i]\n",
    "        print i\n",
    "        tempNum, tempName = lineidsource[tempList[max_index]]\n",
    "        if tempList[max_index] in resDictNum.keys():\n",
    "            print(\"-------{} and {}\".format(tempList[max_index], resDictNum[tempList[max_index]]))\n",
    "        else:\n",
    "            resDictNum[tempList[max_index]] = tempNum\n",
    "        if \"[\" in tempName:\n",
    "            print tempName\n",
    "            print'88888888'\n",
    "            tempName = tempName[tempName.find('[')+1:tempName.find(']')]\n",
    "            tempName = tempName[tempName.find('(')+1:tempName.find(',')]\n",
    "            print tempName\n",
    "        else:\n",
    "            tempName = tempName[tempName.find('(')+1:tempName.find(')')]\n",
    "            tempName = tempName.split(',')[0]\n",
    "        resDictName[tempList[max_index]] = tempName"
   ]
  },
  {
   "cell_type": "code",
   "execution_count": null,
   "metadata": {},
   "outputs": [],
   "source": [
    "linePriorityDict"
   ]
  },
  {
   "cell_type": "code",
   "execution_count": null,
   "metadata": {},
   "outputs": [],
   "source": [
    "import operator\n",
    "sorted_d = sorted(linePriorityDict.items(), key=operator.itemgetter(1), reverse= True)\n",
    "sorted_d"
   ]
  },
  {
   "cell_type": "code",
   "execution_count": null,
   "metadata": {},
   "outputs": [],
   "source": [
    "for i in sorted_d:\n",
    "    a,b = i\n",
    "    if a in resDictName.keys():\n",
    "        print resDictName[a]\n",
    "        print resDictNum[a]"
   ]
  },
  {
   "cell_type": "code",
   "execution_count": null,
   "metadata": {},
   "outputs": [],
   "source": []
  }
 ],
 "metadata": {
  "kernelspec": {
   "display_name": "Python 2",
   "language": "python",
   "name": "python2"
  },
  "language_info": {
   "codemirror_mode": {
    "name": "ipython",
    "version": 2
   },
   "file_extension": ".py",
   "mimetype": "text/x-python",
   "name": "python",
   "nbconvert_exporter": "python",
   "pygments_lexer": "ipython2",
   "version": "2.7.14"
  }
 },
 "nbformat": 4,
 "nbformat_minor": 2
}
