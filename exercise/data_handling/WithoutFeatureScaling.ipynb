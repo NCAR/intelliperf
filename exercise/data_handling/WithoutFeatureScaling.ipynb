{
 "cells": [
  {
   "cell_type": "code",
   "execution_count": 1,
   "metadata": {},
   "outputs": [],
   "source": [
    "import pandas as pd\n",
    "import numpy as np\n",
    "import matplotlib.pyplot as plt\n",
    "from sklearn.model_selection import train_test_split\n",
    "from sklearn.ensemble import RandomForestRegressor\n",
    "from matplotlib.backends.backend_pdf import PdfPages"
   ]
  },
  {
   "cell_type": "markdown",
   "metadata": {},
   "source": [
    "## Data Preprocessing"
   ]
  },
  {
   "cell_type": "code",
   "execution_count": 2,
   "metadata": {},
   "outputs": [],
   "source": [
    "def load_data_from_csv(CSV_PATH):\n",
    "    return pd.read_csv(CSV_PATH,delimiter = ';',\n",
    "                       names = [\"module_sub_routine\",\"id\",\"hardware_Counter\",\"time\",\"event\"])\n",
    "\n",
    "def drop_columns(dataFrame,list_col):\n",
    "    return dataFrame.drop(list_col,axis=1)\n",
    "\n",
    "# Modifying the data\n",
    "\n",
    "arr = ['module_sub_routine','id','time']\n",
    "scalerPath = '../../data/WACCM_imp_sol_scaler.slope.labelled.csv'\n",
    "scalarDF = load_data_from_csv(scalerPath)\n",
    "scalarDF = drop_columns(scalarDF,arr)\n",
    "    \n",
    "vectorPath = '../../data/WACCM_imp_sol_vector.slope.labelled.csv'\n",
    "vectorDF = load_data_from_csv(vectorPath)\n",
    "vectorDF = drop_columns(vectorDF,arr)\n",
    "    \n",
    "psradPath = '../../data/mg2/PSrad.exe.codeblocks.fused.any.any.any.slope.labelled .csv'\n",
    "psradDF = load_data_from_csv(psradPath)\n",
    "psradDF = drop_columns(psradDF,arr)\n",
    "    \n",
    "wetdepaPath = '../../data/wetdepa_driver_v0.labelled.csv'\n",
    "wetdepaDF = load_data_from_csv(wetdepaPath)\n",
    "wetdepaDF = drop_columns(wetdepaDF,arr)\n",
    "    \n",
    "clubbPath = '../../data/clubb.labelled.csv'\n",
    "clubbDF = load_data_from_csv(clubbPath)\n",
    "clubbDF = drop_columns(clubbDF,arr)"
   ]
  },
  {
   "cell_type": "code",
   "execution_count": 3,
   "metadata": {},
   "outputs": [],
   "source": [
    "def get_CounterNames(dataFrame):\n",
    "    counter_name = dataFrame['hardware_Counter']\n",
    "    return counter_name.unique()\n",
    "\n",
    "def remove_ABS_Counter(counterNames):\n",
    "    counterName = []\n",
    "    for str in counterNames:\n",
    "        if \"_per_ins\" in str:\n",
    "            counterName.append(str)\n",
    "        elif \"LABEL\" == str:\n",
    "            counterName.append(str)\n",
    "    return counterName"
   ]
  },
  {
   "cell_type": "code",
   "execution_count": 4,
   "metadata": {},
   "outputs": [],
   "source": [
    "counter_name = get_CounterNames(vectorDF)\n",
    "counterNameList = remove_ABS_Counter(counter_name) \n",
    "counterNameList.remove(\"PAPI_VEC_DP_per_ins\")"
   ]
  },
  {
   "cell_type": "code",
   "execution_count": 5,
   "metadata": {},
   "outputs": [],
   "source": [
    "def rearrange(dataFrame,counterNameList):\n",
    "    df_per_ins = pd.DataFrame(columns = counterNameList)\n",
    "    for tempStr in counterNameList:\n",
    "        temp_df = dataFrame[dataFrame['hardware_Counter'] == tempStr]\n",
    "        df_per_ins[tempStr] = temp_df['event'].values\n",
    "    df_per_ins = df_per_ins[~df_per_ins.isin([np.nan,np.inf,-np.inf]).any(1)]\n",
    "    return df_per_ins"
   ]
  },
  {
   "cell_type": "code",
   "execution_count": 6,
   "metadata": {},
   "outputs": [],
   "source": [
    "scalarDF = rearrange(scalarDF,counterNameList)\n",
    "vectorDF = rearrange(vectorDF,counterNameList)\n",
    "psradDF = rearrange(psradDF,counterNameList)\n",
    "wetdepaDF = rearrange(wetdepaDF,counterNameList)\n",
    "clubbDF = rearrange(clubbDF,counterNameList)    "
   ]
  },
  {
   "cell_type": "code",
   "execution_count": 7,
   "metadata": {},
   "outputs": [],
   "source": [
    "def append_DataFrames(dataFrameA,dataFrameB):\n",
    "    return dataFrameA.append(dataFrameB)"
   ]
  },
  {
   "cell_type": "code",
   "execution_count": 8,
   "metadata": {},
   "outputs": [],
   "source": [
    "resultDF = append_DataFrames(scalarDF,vectorDF)\n",
    "resultDF = append_DataFrames(resultDF, psradDF)\n",
    "resultDF = append_DataFrames(resultDF,wetdepaDF)"
   ]
  },
  {
   "cell_type": "markdown",
   "metadata": {},
   "source": [
    "## Create Test Case"
   ]
  },
  {
   "cell_type": "code",
   "execution_count": 9,
   "metadata": {},
   "outputs": [
    {
     "name": "stdout",
     "output_type": "stream",
     "text": [
      "(2795, 'Train +', 699, 'test')\n"
     ]
    }
   ],
   "source": [
    "from sklearn.model_selection import train_test_split\n",
    "\n",
    "train_set, test_set = train_test_split(resultDF,test_size = 0.2, random_state=42)\n",
    "print(len(train_set),\"Train +\",len(test_set),\"test\")"
   ]
  },
  {
   "cell_type": "markdown",
   "metadata": {},
   "source": [
    "## Prepare Data for ML"
   ]
  },
  {
   "cell_type": "code",
   "execution_count": 10,
   "metadata": {},
   "outputs": [],
   "source": [
    "train_Features = train_set.drop(\"LABEL\",axis=1)\n",
    "train_Labels = train_set[\"LABEL\"].copy()"
   ]
  },
  {
   "cell_type": "code",
   "execution_count": 11,
   "metadata": {},
   "outputs": [
    {
     "data": {
      "text/plain": [
       "RandomForestRegressor(bootstrap=True, criterion='mse', max_depth=None,\n",
       "           max_features='auto', max_leaf_nodes=None,\n",
       "           min_impurity_decrease=0.0, min_impurity_split=None,\n",
       "           min_samples_leaf=1, min_samples_split=2,\n",
       "           min_weight_fraction_leaf=0.0, n_estimators=10, n_jobs=1,\n",
       "           oob_score=False, random_state=None, verbose=0, warm_start=False)"
      ]
     },
     "execution_count": 11,
     "metadata": {},
     "output_type": "execute_result"
    }
   ],
   "source": [
    "from sklearn.ensemble import RandomForestRegressor\n",
    "\n",
    "forest_reg = RandomForestRegressor()\n",
    "forest_reg.fit(train_Features,train_Labels)"
   ]
  },
  {
   "cell_type": "code",
   "execution_count": 12,
   "metadata": {},
   "outputs": [
    {
     "data": {
      "text/plain": [
       "0.036285490922964965"
      ]
     },
     "execution_count": 12,
     "metadata": {},
     "output_type": "execute_result"
    }
   ],
   "source": [
    "from sklearn.metrics import mean_squared_error\n",
    "\n",
    "label_predictions = forest_reg.predict(train_Features)\n",
    "forest_mse = mean_squared_error(train_Labels, label_predictions)\n",
    "forest_rmse = np.sqrt(forest_mse)\n",
    "forest_rmse"
   ]
  },
  {
   "cell_type": "code",
   "execution_count": 13,
   "metadata": {},
   "outputs": [],
   "source": [
    "def display_scores(scores):\n",
    "    print(\"Scores :\", scores)\n",
    "    print(\"Mean :\",scores.mean())\n",
    "    print(\"Standard Deviation :\",scores.std())"
   ]
  },
  {
   "cell_type": "code",
   "execution_count": 16,
   "metadata": {},
   "outputs": [
    {
     "name": "stdout",
     "output_type": "stream",
     "text": [
      "('Scores :', array([0.04633239, 0.17023608, 0.10964245, 0.03783024, 0.04056841]))\n",
      "('Mean :', 0.08092191415585141)\n",
      "('Standard Deviation :', 0.05192999432165836)\n"
     ]
    }
   ],
   "source": [
    "from sklearn.model_selection import cross_val_score\n",
    "\n",
    "forest_scores = cross_val_score(forest_reg, train_Features, train_Labels,\n",
    "                                scoring= \"neg_mean_squared_error\", cv=5)\n",
    "forest_rmse_scores = np.sqrt(-forest_scores)\n",
    "\n",
    "display_scores(forest_rmse_scores)"
   ]
  },
  {
   "cell_type": "markdown",
   "metadata": {},
   "source": [
    "### GridSearch CV"
   ]
  },
  {
   "cell_type": "code",
   "execution_count": 17,
   "metadata": {},
   "outputs": [
    {
     "data": {
      "text/plain": [
       "GridSearchCV(cv=10, error_score='raise',\n",
       "       estimator=RandomForestRegressor(bootstrap=True, criterion='mse', max_depth=None,\n",
       "           max_features='auto', max_leaf_nodes=None,\n",
       "           min_impurity_decrease=0.0, min_impurity_split=None,\n",
       "           min_samples_leaf=1, min_samples_split=2,\n",
       "           min_weight_fraction_leaf=0.0, n_estimators=10, n_jobs=1,\n",
       "           oob_score=False, random_state=None, verbose=0, warm_start=False),\n",
       "       fit_params=None, iid=True, n_jobs=1,\n",
       "       param_grid=[{'n_estimators': [10, 30, 100], 'max_features': [2, 4, 6, 8, 10, 20, 30, 40]}, {'n_estimators': [3, 10, 20, 50, 70, 100], 'max_features': [2, 4, 6, 8, 10, 20, 30, 40], 'bootstrap': [False]}],\n",
       "       pre_dispatch='2*n_jobs', refit=True, return_train_score='warn',\n",
       "       scoring='neg_mean_squared_error', verbose=0)"
      ]
     },
     "execution_count": 17,
     "metadata": {},
     "output_type": "execute_result"
    }
   ],
   "source": [
    "import numpy as np\n",
    "\n",
    "from scipy.stats import randint as sp_randint\n",
    "from sklearn.model_selection import GridSearchCV\n",
    "from sklearn.model_selection import RandomizedSearchCV\n",
    "from sklearn.datasets import load_digits\n",
    "from sklearn.ensemble import RandomForestClassifier\n",
    "\n",
    "param_grid = [\n",
    "                    {'n_estimators' : [10,30,100], 'max_features':[2,4,6,8,10,20,30,40]},\n",
    "                    {'bootstrap':[False],'n_estimators':[3,10,20,50,70,100],'max_features':[2,4,6,8,10,20,30,40]},\n",
    "                ]\n",
    "\n",
    "forest_reg = RandomForestRegressor()\n",
    "\n",
    "\n",
    "grid_search = GridSearchCV(forest_reg,param_grid,cv =10, scoring = 'neg_mean_squared_error')\n",
    "\n",
    "grid_search.fit(train_Features,train_Labels)"
   ]
  },
  {
   "cell_type": "code",
   "execution_count": 18,
   "metadata": {},
   "outputs": [
    {
     "data": {
      "text/plain": [
       "{'bootstrap': False, 'max_features': 2, 'n_estimators': 20}"
      ]
     },
     "execution_count": 18,
     "metadata": {},
     "output_type": "execute_result"
    }
   ],
   "source": [
    "grid_search.best_params_"
   ]
  },
  {
   "cell_type": "code",
   "execution_count": 19,
   "metadata": {},
   "outputs": [
    {
     "data": {
      "text/plain": [
       "RandomForestRegressor(bootstrap=False, criterion='mse', max_depth=None,\n",
       "           max_features=2, max_leaf_nodes=None, min_impurity_decrease=0.0,\n",
       "           min_impurity_split=None, min_samples_leaf=1,\n",
       "           min_samples_split=2, min_weight_fraction_leaf=0.0,\n",
       "           n_estimators=20, n_jobs=1, oob_score=False, random_state=None,\n",
       "           verbose=0, warm_start=False)"
      ]
     },
     "execution_count": 19,
     "metadata": {},
     "output_type": "execute_result"
    }
   ],
   "source": [
    "grid_search.best_estimator_"
   ]
  },
  {
   "cell_type": "code",
   "execution_count": 20,
   "metadata": {},
   "outputs": [
    {
     "name": "stdout",
     "output_type": "stream",
     "text": [
      "(0.06408848980853876, {'max_features': 2, 'n_estimators': 10})\n",
      "(0.057772884828673314, {'max_features': 2, 'n_estimators': 30})\n",
      "(0.059743159337672706, {'max_features': 2, 'n_estimators': 100})\n",
      "(0.07835518415344916, {'max_features': 4, 'n_estimators': 10})\n",
      "(0.0689299766543863, {'max_features': 4, 'n_estimators': 30})\n",
      "(0.06467975326951524, {'max_features': 4, 'n_estimators': 100})\n",
      "(0.06541459903906666, {'max_features': 6, 'n_estimators': 10})\n",
      "(0.06646361444669574, {'max_features': 6, 'n_estimators': 30})\n",
      "(0.06385022725544874, {'max_features': 6, 'n_estimators': 100})\n",
      "(0.055983641873532775, {'max_features': 8, 'n_estimators': 10})\n",
      "(0.07065021579197754, {'max_features': 8, 'n_estimators': 30})\n",
      "(0.0660893307744771, {'max_features': 8, 'n_estimators': 100})\n",
      "(0.07157817198580901, {'max_features': 10, 'n_estimators': 10})\n",
      "(0.06586277392478834, {'max_features': 10, 'n_estimators': 30})\n",
      "(0.06992866285785576, {'max_features': 10, 'n_estimators': 100})\n",
      "(0.07461289485546038, {'max_features': 20, 'n_estimators': 10})\n",
      "(0.07442084075352508, {'max_features': 20, 'n_estimators': 30})\n",
      "(0.07082847329779095, {'max_features': 20, 'n_estimators': 100})\n",
      "(0.08442163539260157, {'max_features': 30, 'n_estimators': 10})\n",
      "(0.07702477872391261, {'max_features': 30, 'n_estimators': 30})\n",
      "(0.07217847091539936, {'max_features': 30, 'n_estimators': 100})\n",
      "(0.08382621088588459, {'max_features': 40, 'n_estimators': 10})\n",
      "(0.0759646111206736, {'max_features': 40, 'n_estimators': 30})\n",
      "(0.0761760506831013, {'max_features': 40, 'n_estimators': 100})\n",
      "(0.06548691223419974, {'max_features': 2, 'n_estimators': 3, 'bootstrap': False})\n",
      "(0.058971507021860464, {'max_features': 2, 'n_estimators': 10, 'bootstrap': False})\n",
      "(0.04781448946192433, {'max_features': 2, 'n_estimators': 20, 'bootstrap': False})\n",
      "(0.050198888868672915, {'max_features': 2, 'n_estimators': 50, 'bootstrap': False})\n",
      "(0.051720781572476435, {'max_features': 2, 'n_estimators': 70, 'bootstrap': False})\n",
      "(0.05124994329974699, {'max_features': 2, 'n_estimators': 100, 'bootstrap': False})\n",
      "(0.05639399125837514, {'max_features': 4, 'n_estimators': 3, 'bootstrap': False})\n",
      "(0.058606354860660535, {'max_features': 4, 'n_estimators': 10, 'bootstrap': False})\n",
      "(0.05245323328045889, {'max_features': 4, 'n_estimators': 20, 'bootstrap': False})\n",
      "(0.05022169099970062, {'max_features': 4, 'n_estimators': 50, 'bootstrap': False})\n",
      "(0.05124708871094199, {'max_features': 4, 'n_estimators': 70, 'bootstrap': False})\n",
      "(0.05268735205141386, {'max_features': 4, 'n_estimators': 100, 'bootstrap': False})\n",
      "(0.07460223815400555, {'max_features': 6, 'n_estimators': 3, 'bootstrap': False})\n",
      "(0.05061341079610252, {'max_features': 6, 'n_estimators': 10, 'bootstrap': False})\n",
      "(0.053265460688194384, {'max_features': 6, 'n_estimators': 20, 'bootstrap': False})\n",
      "(0.05318883227101535, {'max_features': 6, 'n_estimators': 50, 'bootstrap': False})\n",
      "(0.055866136023961295, {'max_features': 6, 'n_estimators': 70, 'bootstrap': False})\n",
      "(0.05337550509202012, {'max_features': 6, 'n_estimators': 100, 'bootstrap': False})\n",
      "(0.07133338348963623, {'max_features': 8, 'n_estimators': 3, 'bootstrap': False})\n",
      "(0.06574194686665075, {'max_features': 8, 'n_estimators': 10, 'bootstrap': False})\n",
      "(0.061175134963038495, {'max_features': 8, 'n_estimators': 20, 'bootstrap': False})\n",
      "(0.061420280079212804, {'max_features': 8, 'n_estimators': 50, 'bootstrap': False})\n",
      "(0.06295974712425147, {'max_features': 8, 'n_estimators': 70, 'bootstrap': False})\n",
      "(0.056921626438029914, {'max_features': 8, 'n_estimators': 100, 'bootstrap': False})\n",
      "(0.07352876869011528, {'max_features': 10, 'n_estimators': 3, 'bootstrap': False})\n",
      "(0.06519545403777331, {'max_features': 10, 'n_estimators': 10, 'bootstrap': False})\n",
      "(0.06167025243809349, {'max_features': 10, 'n_estimators': 20, 'bootstrap': False})\n",
      "(0.055547365725101765, {'max_features': 10, 'n_estimators': 50, 'bootstrap': False})\n",
      "(0.05925313703489274, {'max_features': 10, 'n_estimators': 70, 'bootstrap': False})\n",
      "(0.05789880753635932, {'max_features': 10, 'n_estimators': 100, 'bootstrap': False})\n",
      "(0.0826898230594723, {'max_features': 20, 'n_estimators': 3, 'bootstrap': False})\n",
      "(0.06975551478253192, {'max_features': 20, 'n_estimators': 10, 'bootstrap': False})\n",
      "(0.06284831385615462, {'max_features': 20, 'n_estimators': 20, 'bootstrap': False})\n",
      "(0.07386105991478352, {'max_features': 20, 'n_estimators': 50, 'bootstrap': False})\n",
      "(0.06914573369900479, {'max_features': 20, 'n_estimators': 70, 'bootstrap': False})\n",
      "(0.06857820053450647, {'max_features': 20, 'n_estimators': 100, 'bootstrap': False})\n",
      "(0.10398538190615521, {'max_features': 30, 'n_estimators': 3, 'bootstrap': False})\n",
      "(0.0685134775140873, {'max_features': 30, 'n_estimators': 10, 'bootstrap': False})\n",
      "(0.08115886935593773, {'max_features': 30, 'n_estimators': 20, 'bootstrap': False})\n",
      "(0.07588334894813864, {'max_features': 30, 'n_estimators': 50, 'bootstrap': False})\n",
      "(0.07393062234883745, {'max_features': 30, 'n_estimators': 70, 'bootstrap': False})\n",
      "(0.0716381285832146, {'max_features': 30, 'n_estimators': 100, 'bootstrap': False})\n",
      "(0.0724393933753037, {'max_features': 40, 'n_estimators': 3, 'bootstrap': False})\n",
      "(0.07835518415344916, {'max_features': 40, 'n_estimators': 10, 'bootstrap': False})\n",
      "(0.08078328525816443, {'max_features': 40, 'n_estimators': 20, 'bootstrap': False})\n",
      "(0.07888670801378542, {'max_features': 40, 'n_estimators': 50, 'bootstrap': False})\n",
      "(0.08151212305962838, {'max_features': 40, 'n_estimators': 70, 'bootstrap': False})\n",
      "(0.08246558343215071, {'max_features': 40, 'n_estimators': 100, 'bootstrap': False})\n"
     ]
    }
   ],
   "source": [
    "cvres = grid_search.cv_results_\n",
    "for mean_score , params in zip(cvres[\"mean_test_score\"],cvres[\"params\"]):\n",
    "    print(np.sqrt(-mean_score),params)"
   ]
  },
  {
   "cell_type": "code",
   "execution_count": 21,
   "metadata": {},
   "outputs": [
    {
     "data": {
      "text/plain": [
       "array([0.03500909, 0.09015242, 0.02861988, 0.00325752, 0.00839334,\n",
       "       0.05502795, 0.03591245, 0.03344334, 0.00114876, 0.00040032,\n",
       "       0.01797174, 0.00137081, 0.00635111, 0.04927094, 0.04549601,\n",
       "       0.05027513, 0.01026072, 0.05602729, 0.01820934, 0.00089901,\n",
       "       0.00191397, 0.01681044, 0.06883927, 0.02157763, 0.04275507,\n",
       "       0.01210326, 0.00018925, 0.03075936, 0.01257372, 0.05016373,\n",
       "       0.02467627, 0.00015334, 0.00115755, 0.02990309, 0.01999882,\n",
       "       0.0024464 , 0.01576202, 0.00101942, 0.05228545, 0.03710586,\n",
       "       0.0003279 , 0.00998097])"
      ]
     },
     "execution_count": 21,
     "metadata": {},
     "output_type": "execute_result"
    }
   ],
   "source": [
    "feature_importances = grid_search.best_estimator_.feature_importances_\n",
    "feature_importances"
   ]
  },
  {
   "cell_type": "code",
   "execution_count": 22,
   "metadata": {},
   "outputs": [
    {
     "data": {
      "text/plain": [
       "[(0.09015242450980018, 'PAPI_BR_INS_per_ins'),\n",
       " (0.06883927150206381, 'PAPI_L2_TCA_per_ins'),\n",
       " (0.05602728830563632, 'PAPI_L2_ICA_per_ins'),\n",
       " (0.05502795230811156, 'PAPI_BR_TKN_per_ins'),\n",
       " (0.052285454118938215, 'PAPI_TLB_DM_per_ins'),\n",
       " (0.05027513199176944, 'PAPI_L2_DCR_per_ins'),\n",
       " (0.05016373331747187, 'PAPI_L3_ICA_per_ins'),\n",
       " (0.04927094470710776, 'PAPI_L2_DCA_per_ins'),\n",
       " (0.04549601079564879, 'PAPI_L2_DCM_per_ins'),\n",
       " (0.04275507412008929, 'PAPI_L2_TCR_per_ins'),\n",
       " (0.037105861804717755, 'PAPI_TLB_IM_per_ins'),\n",
       " (0.03591245463870073, 'PAPI_BR_UCN_per_ins'),\n",
       " (0.03500908899056993, 'PAPI_BR_CN_per_ins'),\n",
       " (0.03344334075913261, 'PAPI_DP_OPS_per_ins'),\n",
       " (0.03075935660713605, 'PAPI_L3_DCR_per_ins'),\n",
       " (0.029903093374064393, 'PAPI_L3_TCW_per_ins'),\n",
       " (0.02861988491686595, 'PAPI_BR_MSP_per_ins'),\n",
       " (0.024676274341759178, 'PAPI_L3_ICR_per_ins'),\n",
       " (0.0215776319150433, 'PAPI_L2_TCM_per_ins'),\n",
       " (0.0199988201496201, 'PAPI_LD_INS_per_ins'),\n",
       " (0.018209341586636625, 'PAPI_L2_ICH_per_ins'),\n",
       " (0.017971744643632152, 'PAPI_L1_LDM_per_ins'),\n",
       " (0.016810438987611635, 'PAPI_L2_STM_per_ins'),\n",
       " (0.015762017220796107, 'PAPI_SR_INS_per_ins'),\n",
       " (0.012573716787823827, 'PAPI_L3_DCW_per_ins'),\n",
       " (0.012103256545831682, 'PAPI_L2_TCW_per_ins'),\n",
       " (0.010260715066099067, 'PAPI_L2_DCW_per_ins'),\n",
       " (0.009980970466256537, 'RESOURCE_STALLS_per_ins'),\n",
       " (0.00839333937309897, 'PAPI_BR_PRC_per_ins'),\n",
       " (0.006351106934051001, 'PAPI_L1_TCM_per_ins'),\n",
       " (0.0032575242847511154, 'PAPI_BR_NTK_per_ins'),\n",
       " (0.0024463980860212416, 'PAPI_SP_OPS_per_ins'),\n",
       " (0.001913974320636987, 'PAPI_L2_ICR_per_ins'),\n",
       " (0.001370814603913619, 'PAPI_L1_STM_per_ins'),\n",
       " (0.0011575475576495581, 'PAPI_L3_TCM_per_ins'),\n",
       " (0.001148760105860593, 'PAPI_L1_DCM_per_ins'),\n",
       " (0.0010194157652962936, 'PAPI_STL_ICY_per_ins'),\n",
       " (0.0008990123584470238, 'PAPI_L2_ICM_per_ins'),\n",
       " (0.0004003185547681489, 'PAPI_L1_ICM_per_ins'),\n",
       " (0.00032790076569066105, 'PAPI_TOT_CYC_per_ins'),\n",
       " (0.0001892530878250579, 'PAPI_L3_DCA_per_ins'),\n",
       " (0.00015333972305483484, 'PAPI_L3_TCA_per_ins')]"
      ]
     },
     "execution_count": 22,
     "metadata": {},
     "output_type": "execute_result"
    }
   ],
   "source": [
    "sorted(zip(feature_importances, counterNameList),reverse =True) # Importance Score"
   ]
  },
  {
   "cell_type": "code",
   "execution_count": 23,
   "metadata": {},
   "outputs": [
    {
     "data": {
      "text/plain": [
       "0.0476935856440673"
      ]
     },
     "execution_count": 23,
     "metadata": {},
     "output_type": "execute_result"
    }
   ],
   "source": [
    "final_model = grid_search.best_estimator_\n",
    "\n",
    "test_Features = test_set.drop(\"LABEL\",axis=1)\n",
    "test_Labels = test_set[\"LABEL\"].copy()\n",
    "\n",
    "\n",
    "final_prediction_grid = final_model.predict(test_Features)\n",
    "\n",
    "final_mse = mean_squared_error(test_Labels, final_prediction_grid)\n",
    "final_rmse = np.sqrt(final_mse)\n",
    "\n",
    "final_rmse"
   ]
  },
  {
   "cell_type": "code",
   "execution_count": 24,
   "metadata": {},
   "outputs": [
    {
     "data": {
      "text/plain": [
       "0.7763089304880859"
      ]
     },
     "execution_count": 24,
     "metadata": {},
     "output_type": "execute_result"
    }
   ],
   "source": [
    "clubb_Features = clubbDF.drop(\"LABEL\",axis=1)\n",
    "clubb_Labels = clubbDF[\"LABEL\"].copy()\n",
    "\n",
    "clubb_prediction = final_model.predict(clubb_Features)\n",
    "\n",
    "final_mse = mean_squared_error(clubb_Labels, clubb_prediction)\n",
    "final_rmse = np.sqrt(final_mse)\n",
    "\n",
    "final_rmse"
   ]
  },
  {
   "cell_type": "code",
   "execution_count": 25,
   "metadata": {},
   "outputs": [
    {
     "name": "stdout",
     "output_type": "stream",
     "text": [
      "[0, 1, 2, 3, 4, 5, 6, 7, 8, 9, 10, 11, 12, 13, 14, 15, 16, 17, 18, 19, 20, 21, 22, 23, 24, 25, 26, 27, 28, 29, 30, 31, 32, 33, 34, 35, 36, 37, 38, 39, 40, 41, 42, 43, 44, 45, 46, 47, 48, 49, 50, 51, 52, 53, 54, 55, 56, 57, 58, 59, 69, 70, 71, 72, 73, 74, 75, 76, 77, 78, 79, 80, 81, 82, 83, 84, 85, 86, 87, 88, 89, 90, 91, 92, 93, 94, 95, 96, 97, 98, 99, 100, 101, 102, 103, 109, 110, 114, 115, 116, 117, 118, 119, 131, 132, 133, 134, 135, 136, 137, 138, 139, 168, 169, 170, 171, 172, 178, 216, 217, 218, 219, 220, 221, 222, 223, 224, 225, 226, 227, 228, 229, 230, 231, 232, 233, 234, 235, 236, 237, 238, 239, 241, 246, 265, 266, 267, 268, 269, 270, 271, 272, 273, 274, 275, 276, 277, 278, 279, 280, 281, 282, 283, 284, 285, 286, 287, 289, 290, 291, 292, 293, 294, 295, 296, 297, 298, 299, 300, 301, 302, 303, 304, 305, 306, 307, 308, 309, 310, 311, 312, 313, 314, 315, 316, 317, 318, 319, 320, 321, 322, 323, 324, 325, 326, 327, 328, 329, 330, 331, 332, 333, 334, 335, 336, 337, 338, 339, 340, 341, 342, 343, 344, 345, 346, 347, 348, 349, 350, 351, 352, 353, 354, 355, 356, 357, 358, 359, 360, 361, 362, 363, 364, 365, 366, 367, 368, 369, 370, 371, 372, 373, 374, 375, 376, 377, 378, 379, 380, 381, 384, 401, 402, 403, 404, 405, 406, 415, 418, 419, 420, 421, 422, 423, 424, 425, 431, 432, 433, 434, 435, 436, 437, 438, 439, 440, 441, 442, 443, 444, 445, 446, 447, 448, 449, 450, 451, 452, 453, 454, 455, 456, 457, 458, 459, 460, 461, 462, 463, 464, 465, 466, 467, 468, 469, 470, 471, 472, 473, 474, 475, 476, 479, 480, 489, 490, 491, 492, 493, 494, 495, 496, 497, 498, 527, 528, 529, 530, 531, 532, 533, 534, 535, 536, 537, 538, 539, 540, 543, 544, 545, 546, 547, 548, 549, 550, 551, 552, 554, 555, 556, 557, 558, 559, 560, 561, 562, 563, 564, 565, 566, 567, 568, 569, 570, 571, 572, 573, 574, 575, 576, 577, 578, 598, 599, 600, 601, 602, 619, 620, 621, 622, 623, 624, 625, 626, 627, 628, 629, 630, 631, 632, 633, 634, 635, 636, 637, 638, 657, 658, 659, 791, 792, 793, 794, 795, 796, 797, 798, 799, 800, 801, 802, 803, 804, 805, 806, 807, 808, 809, 810, 811, 812, 813, 814, 815, 816, 817, 818, 819, 820, 821, 822, 837, 838, 841, 842, 843, 844, 845, 846, 847, 848, 849, 850, 851, 852, 853, 854, 855, 856, 857, 858, 859, 860, 861, 862, 863, 864, 865, 866, 867, 868, 869, 870, 871, 872, 873, 874, 875, 876, 877, 878, 879, 880, 881, 882, 883, 884, 885, 886, 887, 888, 889, 890, 891, 892, 893, 894, 895, 896, 897, 898, 899]\n",
      "828\n",
      "0\n",
      "72\n"
     ]
    },
    {
     "data": {
      "text/plain": [
       "0     -1.0\n",
       "1     -1.0\n",
       "2     -1.0\n",
       "3     -1.0\n",
       "4     -1.0\n",
       "5     -1.0\n",
       "6     -1.0\n",
       "7     -1.0\n",
       "8     -1.0\n",
       "9     -1.0\n",
       "10    -1.0\n",
       "11    -1.0\n",
       "12    -1.0\n",
       "13    -1.0\n",
       "14    -1.0\n",
       "15    -1.0\n",
       "16    -1.0\n",
       "17    -1.0\n",
       "18    -1.0\n",
       "19    -1.0\n",
       "20    -1.0\n",
       "21    -1.0\n",
       "22    -1.0\n",
       "23    -1.0\n",
       "24    -1.0\n",
       "25    -1.0\n",
       "26    -1.0\n",
       "27    -1.0\n",
       "28    -1.0\n",
       "29    -1.0\n",
       "      ... \n",
       "870   -1.0\n",
       "871   -1.0\n",
       "872   -1.0\n",
       "873   -1.0\n",
       "874   -1.0\n",
       "875   -1.0\n",
       "876   -1.0\n",
       "877   -1.0\n",
       "878   -1.0\n",
       "879   -1.0\n",
       "880   -1.0\n",
       "881   -1.0\n",
       "882   -1.0\n",
       "883   -1.0\n",
       "884   -1.0\n",
       "885   -1.0\n",
       "886   -1.0\n",
       "887   -1.0\n",
       "888   -1.0\n",
       "889   -1.0\n",
       "890   -1.0\n",
       "891   -1.0\n",
       "892   -1.0\n",
       "893   -1.0\n",
       "894   -1.0\n",
       "895   -1.0\n",
       "896   -1.0\n",
       "897   -1.0\n",
       "898   -1.0\n",
       "899   -1.0\n",
       "Name: LABEL, Length: 900, dtype: float64"
      ]
     },
     "execution_count": 25,
     "metadata": {},
     "output_type": "execute_result"
    }
   ],
   "source": [
    "q1_Actual = 0\n",
    "q1_predict = 0\n",
    "q2_predict = 0\n",
    "q3_Actual = 0\n",
    "q3_predict = 0\n",
    "q4_predict = 0\n",
    "\n",
    "correctPred = []\n",
    "correctLabel = []\n",
    "badPred = []\n",
    "badLabel = []\n",
    "        \n",
    "timslots = []\n",
    "tempVal = []\n",
    "for i in range(len(clubb_prediction)):\n",
    "    threshold = abs(clubb_Labels[i] * (float(80)/float(100)))\n",
    "    if clubb_Labels[i] < 0 :\n",
    "        q3_Actual = q3_Actual +1\n",
    "        if clubb_prediction[i] > 0:\n",
    "            q2_predict = q2_predict +1\n",
    "            badPred.append(clubb_prediction[i])\n",
    "            badLabel.append(clubb_Labels[i])\n",
    "        else:\n",
    "            q3_predict = q3_predict + 1\n",
    "            correctPred.append(clubb_prediction[i])\n",
    "            correctLabel.append(clubb_Labels[i])\n",
    "            if abs(clubb_prediction[i] - clubb_Labels[i]) < threshold:\n",
    "                timslots.append(i)\n",
    "                tempVal.append(clubb_prediction[i])\n",
    "    else :\n",
    "        q1_Actual = q1_Actual +1\n",
    "        if clubb_prediction[i] > 0:\n",
    "            q1_predict = q1_predict +1\n",
    "            correctPred.append(clubb_prediction[i])\n",
    "            correctLabel.append(clubb_Labels[i])\n",
    "        else: \n",
    "            q4_predict = q4_predict + 1\n",
    "            badPred.append(clubb_prediction[i])\n",
    "            badLabel.append(clubb_Labels[i])\n",
    "        \n",
    "correctPrediction = q3_predict + q1_predict\n",
    "wrongPrediction = q2_predict + q4_predict\n",
    "total = q3_Actual + q1_Actual\n",
    "\n",
    "print timslots        \n",
    "print q3_predict\n",
    "print q1_predict\n",
    "print q2_predict\n",
    "        \n",
    "goodPercent = round(float((float(correctPrediction)/float(total))*100),2)\n",
    "badPercent = round(float((float(wrongPrediction)/float(total))*100),2)\n",
    "\n",
    "clubb_Labels"
   ]
  },
  {
   "cell_type": "code",
   "execution_count": 26,
   "metadata": {},
   "outputs": [
    {
     "data": {
      "image/png": "[encoded data removed]",
      "text/plain": [
       "<Figure size 432x288 with 1 Axes>"
      ]
     },
     "metadata": {},
     "output_type": "display_data"
    }
   ],
   "source": [
    "fig, ax = plt.subplots()\n",
    "        \n",
    "ax.scatter(correctLabel,correctPred,s=10,c='b',marker='s',label = 'Good Prediction= {}'.format(goodPercent))\n",
    "        \n",
    "ax.scatter(badLabel,badPred,s=10,c='r',marker = 'o',label = 'Bad Prediction= {}'.format(badPercent))\n",
    "        \n",
    "        \n",
    "ax.legend(loc = 'upper right', prop={'size': 14})\n",
    "ax.set_xlabel('Actual Value',fontsize=14 , fontweight = 'bold')\n",
    "ax.set_ylabel('Prediction Value',fontsize=14, fontweight = 'bold')\n",
    "    \n",
    "ax.xaxis.set_tick_params(labelsize=12)\n",
    "ax.yaxis.set_tick_params(labelsize=12)\n",
    "    \n",
    "ax.set_xlabel('Actual Value of Label')\n",
    "ax.set_ylabel('Predicted value of Label')\n",
    "ax.set_xlim(-1.5,1.5)\n",
    "ax.set_ylim(-1.5,1.5)\n",
    "ax.grid(True)\n",
    "        \n",
    "plt.show()"
   ]
  },
  {
   "cell_type": "markdown",
   "metadata": {},
   "source": [
    "### Randomized Search CV"
   ]
  },
  {
   "cell_type": "markdown",
   "metadata": {},
   "source": [
    "# specify parameters and distributions to sample from\n",
    "param_dist = {\"max_depth\": [3, None],\n",
    "              \"max_features\": sp_randint(1, 11),\n",
    "              \"min_samples_split\": sp_randint(2, 11),\n",
    "              \"min_samples_leaf\": sp_randint(1, 11),\n",
    "              \"bootstrap\": [True, False],\n",
    "              \"n_estimators\" : [1,3,10,20,40,60]\n",
    "              }"
   ]
  },
  {
   "cell_type": "markdown",
   "metadata": {},
   "source": [
    "n_iter_search = 20\n",
    "random_search = RandomizedSearchCV(forest_reg, param_distributions=param_dist,\n",
    "                                   n_iter=n_iter_search)\n",
    "random_search.fit(train_Features,train_Labels)"
   ]
  },
  {
   "cell_type": "markdown",
   "metadata": {},
   "source": [
    "final_model_random = random_search.best_estimator_\n",
    "\n",
    "test_Features = test_set.drop(\"LABEL\",axis=1)\n",
    "test_Labels = test_set[\"LABEL\"].copy()\n",
    "\n",
    "\n",
    "final_prediction_random = final_model_random.predict(test_Features)\n",
    "\n",
    "final_mse_random = mean_squared_error(test_Labels, final_prediction_random)\n",
    "final_rmse_random = np.sqrt(final_mse_random)\n"
   ]
  },
  {
   "cell_type": "markdown",
   "metadata": {},
   "source": [
    "clubb_prediction_random = final_model_random.predict(clubb_Features)\n",
    "\n",
    "final_mse = mean_squared_error(clubb_Labels, clubb_prediction_random)\n",
    "final_rmse = np.sqrt(final_mse)\n",
    "final_rmse"
   ]
  },
  {
   "cell_type": "code",
   "execution_count": null,
   "metadata": {},
   "outputs": [],
   "source": []
  }
 ],
 "metadata": {
  "kernelspec": {
   "display_name": "Python 2",
   "language": "python",
   "name": "python2"
  },
  "language_info": {
   "codemirror_mode": {
    "name": "ipython",
    "version": 2
   },
   "file_extension": ".py",
   "mimetype": "text/x-python",
   "name": "python",
   "nbconvert_exporter": "python",
   "pygments_lexer": "ipython2",
   "version": "2.7.14"
  }
 },
 "nbformat": 4,
 "nbformat_minor": 2
}
