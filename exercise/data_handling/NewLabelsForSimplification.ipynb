{
 "cells": [
  {
   "cell_type": "markdown",
   "metadata": {},
   "source": [
    "# Simplifiying the Identification of Code Optimization"
   ]
  },
  {
   "cell_type": "code",
   "execution_count": 1,
   "metadata": {},
   "outputs": [],
   "source": [
    "import pandas as pd\n",
    "import numpy as np\n",
    "import matplotlib.pyplot as plt\n",
    "from sklearn.model_selection import train_test_split\n",
    "from sklearn.ensemble import RandomForestRegressor\n",
    "from matplotlib.backends.backend_pdf import PdfPages"
   ]
  },
  {
   "cell_type": "markdown",
   "metadata": {},
   "source": [
    "## Data Preprocessing"
   ]
  },
  {
   "cell_type": "code",
   "execution_count": 2,
   "metadata": {},
   "outputs": [],
   "source": [
    "def load_data_from_csv(CSV_PATH):\n",
    "    return pd.read_csv(CSV_PATH,delimiter = ';',\n",
    "                       names = [\"module_sub_routine\",\"id\",\"hardware_Counter\",\"time\",\"event\"])"
   ]
  },
  {
   "cell_type": "code",
   "execution_count": 3,
   "metadata": {},
   "outputs": [],
   "source": [
    "def drop_columns(dataFrame,list_col):\n",
    "    return dataFrame.drop(list_col,axis=1)"
   ]
  },
  {
   "cell_type": "code",
   "execution_count": 4,
   "metadata": {},
   "outputs": [],
   "source": [
    "# Modifying the data\n",
    "\n",
    "arr = ['module_sub_routine','id','time']\n",
    "scalerPath = '../../data/scalar.label2.csv'\n",
    "scalarDF = load_data_from_csv(scalerPath)\n",
    "scalarDF = drop_columns(scalarDF,arr)\n",
    "    \n",
    "vectorPath = '../../data/vector.label2.csv'\n",
    "vectorDF = load_data_from_csv(vectorPath)\n",
    "vectorDF = drop_columns(vectorDF,arr)\n",
    "    \n",
    "psradPath = '../../data/PSrad.label2.csv'\n",
    "psradDF = load_data_from_csv(psradPath)\n",
    "psradDF = drop_columns(psradDF,arr)\n",
    "    \n",
    "wetdepaPath = '../../data/wetdepa.label2.csv'\n",
    "wetdepaDF = load_data_from_csv(wetdepaPath)\n",
    "wetdepaDF = drop_columns(wetdepaDF,arr)\n",
    "    \n",
    "clubbPath = '../../data/clubb.label2.csv'\n",
    "clubbDF = load_data_from_csv(clubbPath)\n",
    "clubbDFTest = clubbDF\n",
    "clubbDF = drop_columns(clubbDF,arr)"
   ]
  },
  {
   "cell_type": "code",
   "execution_count": 5,
   "metadata": {
    "scrolled": true
   },
   "outputs": [
    {
     "name": "stdout",
     "output_type": "stream",
     "text": [
      "<class 'pandas.core.frame.DataFrame'>\n",
      "RangeIndex: 82800 entries, 0 to 82799\n",
      "Data columns (total 2 columns):\n",
      "hardware_Counter    82800 non-null object\n",
      "event               82800 non-null float64\n",
      "dtypes: float64(1), object(1)\n",
      "memory usage: 1.3+ MB\n"
     ]
    }
   ],
   "source": [
    "clubbDF.info()"
   ]
  },
  {
   "cell_type": "code",
   "execution_count": 6,
   "metadata": {},
   "outputs": [],
   "source": [
    "def get_CounterNames(dataFrame):\n",
    "    counter_name = dataFrame['hardware_Counter']\n",
    "    return counter_name.unique()\n",
    "\n",
    "def remove_ABS_Counter(counterNames):\n",
    "    counterName = []\n",
    "    for str in counterNames:\n",
    "        if \"_per_ins\" in str:\n",
    "            counterName.append(str)\n",
    "        elif \"LABEL\" == str:\n",
    "            counterName.append(str)\n",
    "    return counterName"
   ]
  },
  {
   "cell_type": "code",
   "execution_count": 7,
   "metadata": {},
   "outputs": [
    {
     "data": {
      "text/plain": [
       "43"
      ]
     },
     "execution_count": 7,
     "metadata": {},
     "output_type": "execute_result"
    }
   ],
   "source": [
    "counter_name = get_CounterNames(vectorDF)\n",
    "counterNameList = remove_ABS_Counter(counter_name) \n",
    "counterNameList.remove(\"PAPI_VEC_DP_per_ins\")\n",
    "len(counterNameList)\n"
   ]
  },
  {
   "cell_type": "markdown",
   "metadata": {},
   "source": [
    "Above two list has different number of items. Out of all the lists VectorDF has less number of hardware counters. So considering only vectorDF."
   ]
  },
  {
   "cell_type": "code",
   "execution_count": 8,
   "metadata": {},
   "outputs": [],
   "source": [
    "def rearrange(dataFrame,counterNameList):\n",
    "    df_per_ins = pd.DataFrame(columns = counterNameList)\n",
    "    for tempStr in counterNameList:\n",
    "        temp_df = dataFrame[dataFrame['hardware_Counter'] == tempStr]\n",
    "        df_per_ins[tempStr] = temp_df['event'].values\n",
    "    df_per_ins = df_per_ins[~df_per_ins.isin([np.nan,np.inf,-np.inf]).any(1)]\n",
    "    return df_per_ins"
   ]
  },
  {
   "cell_type": "code",
   "execution_count": 9,
   "metadata": {},
   "outputs": [],
   "source": [
    "scalarDF = rearrange(scalarDF,counterNameList)\n",
    "vectorDF = rearrange(vectorDF,counterNameList)\n",
    "psradDF = rearrange(psradDF,counterNameList)\n",
    "wetdepaDF = rearrange(wetdepaDF,counterNameList)\n",
    "clubbDF = rearrange(clubbDF,counterNameList)    "
   ]
  },
  {
   "cell_type": "code",
   "execution_count": 10,
   "metadata": {},
   "outputs": [],
   "source": [
    "def append_DataFrames(dataFrameA,dataFrameB):\n",
    "    return dataFrameA.append(dataFrameB)"
   ]
  },
  {
   "cell_type": "code",
   "execution_count": 11,
   "metadata": {},
   "outputs": [],
   "source": [
    "resultDF = append_DataFrames(scalarDF,vectorDF)\n",
    "resultDF = append_DataFrames(resultDF, psradDF)\n",
    "resultDF = append_DataFrames(resultDF,wetdepaDF)"
   ]
  },
  {
   "cell_type": "markdown",
   "metadata": {},
   "source": [
    "## Create Test Set"
   ]
  },
  {
   "cell_type": "code",
   "execution_count": 12,
   "metadata": {},
   "outputs": [
    {
     "name": "stdout",
     "output_type": "stream",
     "text": [
      "(2795, 'Train +', 699, 'test')\n"
     ]
    }
   ],
   "source": [
    "from sklearn.model_selection import train_test_split\n",
    "\n",
    "train_set, test_set = train_test_split(resultDF,test_size = 0.2, random_state=42)\n",
    "print(len(train_set),\"Train +\",len(test_set),\"test\")"
   ]
  },
  {
   "cell_type": "code",
   "execution_count": 13,
   "metadata": {},
   "outputs": [
    {
     "data": {
      "text/html": [
       "<div>\n",
       "<style scoped>\n",
       "    .dataframe tbody tr th:only-of-type {\n",
       "        vertical-align: middle;\n",
       "    }\n",
       "\n",
       "    .dataframe tbody tr th {\n",
       "        vertical-align: top;\n",
       "    }\n",
       "\n",
       "    .dataframe thead th {\n",
       "        text-align: right;\n",
       "    }\n",
       "</style>\n",
       "<table border=\"1\" class=\"dataframe\">\n",
       "  <thead>\n",
       "    <tr style=\"text-align: right;\">\n",
       "      <th></th>\n",
       "      <th>PAPI_BR_CN_per_ins</th>\n",
       "      <th>PAPI_BR_INS_per_ins</th>\n",
       "      <th>PAPI_BR_MSP_per_ins</th>\n",
       "      <th>PAPI_BR_NTK_per_ins</th>\n",
       "      <th>PAPI_BR_PRC_per_ins</th>\n",
       "      <th>PAPI_BR_TKN_per_ins</th>\n",
       "      <th>PAPI_BR_UCN_per_ins</th>\n",
       "      <th>PAPI_DP_OPS_per_ins</th>\n",
       "      <th>PAPI_L1_DCM_per_ins</th>\n",
       "      <th>PAPI_L1_ICM_per_ins</th>\n",
       "      <th>...</th>\n",
       "      <th>PAPI_L3_TCW_per_ins</th>\n",
       "      <th>PAPI_LD_INS_per_ins</th>\n",
       "      <th>PAPI_SP_OPS_per_ins</th>\n",
       "      <th>PAPI_SR_INS_per_ins</th>\n",
       "      <th>PAPI_STL_ICY_per_ins</th>\n",
       "      <th>PAPI_TLB_DM_per_ins</th>\n",
       "      <th>PAPI_TLB_IM_per_ins</th>\n",
       "      <th>PAPI_TOT_CYC_per_ins</th>\n",
       "      <th>RESOURCE_STALLS_per_ins</th>\n",
       "      <th>LABEL</th>\n",
       "    </tr>\n",
       "  </thead>\n",
       "  <tbody>\n",
       "    <tr>\n",
       "      <th>949</th>\n",
       "      <td>0.028966</td>\n",
       "      <td>0.036510</td>\n",
       "      <td>0.000335</td>\n",
       "      <td>0.016255</td>\n",
       "      <td>0.028692</td>\n",
       "      <td>0.012710</td>\n",
       "      <td>0.007542</td>\n",
       "      <td>0.247923</td>\n",
       "      <td>0.070003</td>\n",
       "      <td>0.018424</td>\n",
       "      <td>...</td>\n",
       "      <td>0.006376</td>\n",
       "      <td>0.549109</td>\n",
       "      <td>0.0</td>\n",
       "      <td>0.170446</td>\n",
       "      <td>0.052079</td>\n",
       "      <td>0.000026</td>\n",
       "      <td>0.000076</td>\n",
       "      <td>0.930827</td>\n",
       "      <td>0.546198</td>\n",
       "      <td>1.0</td>\n",
       "    </tr>\n",
       "    <tr>\n",
       "      <th>369</th>\n",
       "      <td>0.061183</td>\n",
       "      <td>0.061195</td>\n",
       "      <td>0.000000</td>\n",
       "      <td>0.035588</td>\n",
       "      <td>0.059904</td>\n",
       "      <td>0.025597</td>\n",
       "      <td>0.000000</td>\n",
       "      <td>0.567718</td>\n",
       "      <td>0.014878</td>\n",
       "      <td>0.000000</td>\n",
       "      <td>...</td>\n",
       "      <td>0.000000</td>\n",
       "      <td>0.382106</td>\n",
       "      <td>0.0</td>\n",
       "      <td>0.131916</td>\n",
       "      <td>0.000000</td>\n",
       "      <td>0.000000</td>\n",
       "      <td>0.000000</td>\n",
       "      <td>0.569980</td>\n",
       "      <td>0.310028</td>\n",
       "      <td>0.0</td>\n",
       "    </tr>\n",
       "    <tr>\n",
       "      <th>654</th>\n",
       "      <td>0.057224</td>\n",
       "      <td>0.067766</td>\n",
       "      <td>0.000157</td>\n",
       "      <td>0.020206</td>\n",
       "      <td>0.057177</td>\n",
       "      <td>0.037021</td>\n",
       "      <td>0.010545</td>\n",
       "      <td>0.240337</td>\n",
       "      <td>0.130431</td>\n",
       "      <td>0.000162</td>\n",
       "      <td>...</td>\n",
       "      <td>0.001560</td>\n",
       "      <td>0.446779</td>\n",
       "      <td>0.0</td>\n",
       "      <td>0.107410</td>\n",
       "      <td>0.002884</td>\n",
       "      <td>0.000040</td>\n",
       "      <td>0.000003</td>\n",
       "      <td>0.836692</td>\n",
       "      <td>0.563632</td>\n",
       "      <td>1.0</td>\n",
       "    </tr>\n",
       "    <tr>\n",
       "      <th>884</th>\n",
       "      <td>0.028393</td>\n",
       "      <td>0.035773</td>\n",
       "      <td>0.000313</td>\n",
       "      <td>0.016018</td>\n",
       "      <td>0.027957</td>\n",
       "      <td>0.012375</td>\n",
       "      <td>0.007378</td>\n",
       "      <td>0.244307</td>\n",
       "      <td>0.069302</td>\n",
       "      <td>0.018313</td>\n",
       "      <td>...</td>\n",
       "      <td>0.006289</td>\n",
       "      <td>0.516829</td>\n",
       "      <td>0.0</td>\n",
       "      <td>0.171630</td>\n",
       "      <td>0.052827</td>\n",
       "      <td>0.000034</td>\n",
       "      <td>0.000078</td>\n",
       "      <td>0.916432</td>\n",
       "      <td>0.539805</td>\n",
       "      <td>1.0</td>\n",
       "    </tr>\n",
       "    <tr>\n",
       "      <th>773</th>\n",
       "      <td>0.053858</td>\n",
       "      <td>0.101274</td>\n",
       "      <td>0.000308</td>\n",
       "      <td>0.014396</td>\n",
       "      <td>0.050709</td>\n",
       "      <td>0.039437</td>\n",
       "      <td>0.047438</td>\n",
       "      <td>0.401446</td>\n",
       "      <td>0.068913</td>\n",
       "      <td>0.000163</td>\n",
       "      <td>...</td>\n",
       "      <td>0.006475</td>\n",
       "      <td>0.315747</td>\n",
       "      <td>0.0</td>\n",
       "      <td>0.121373</td>\n",
       "      <td>0.004819</td>\n",
       "      <td>0.000786</td>\n",
       "      <td>0.000004</td>\n",
       "      <td>0.914490</td>\n",
       "      <td>0.587025</td>\n",
       "      <td>0.0</td>\n",
       "    </tr>\n",
       "  </tbody>\n",
       "</table>\n",
       "<p>5 rows × 43 columns</p>\n",
       "</div>"
      ],
      "text/plain": [
       "     PAPI_BR_CN_per_ins  PAPI_BR_INS_per_ins  PAPI_BR_MSP_per_ins  \\\n",
       "949            0.028966             0.036510             0.000335   \n",
       "369            0.061183             0.061195             0.000000   \n",
       "654            0.057224             0.067766             0.000157   \n",
       "884            0.028393             0.035773             0.000313   \n",
       "773            0.053858             0.101274             0.000308   \n",
       "\n",
       "     PAPI_BR_NTK_per_ins  PAPI_BR_PRC_per_ins  PAPI_BR_TKN_per_ins  \\\n",
       "949             0.016255             0.028692             0.012710   \n",
       "369             0.035588             0.059904             0.025597   \n",
       "654             0.020206             0.057177             0.037021   \n",
       "884             0.016018             0.027957             0.012375   \n",
       "773             0.014396             0.050709             0.039437   \n",
       "\n",
       "     PAPI_BR_UCN_per_ins  PAPI_DP_OPS_per_ins  PAPI_L1_DCM_per_ins  \\\n",
       "949             0.007542             0.247923             0.070003   \n",
       "369             0.000000             0.567718             0.014878   \n",
       "654             0.010545             0.240337             0.130431   \n",
       "884             0.007378             0.244307             0.069302   \n",
       "773             0.047438             0.401446             0.068913   \n",
       "\n",
       "     PAPI_L1_ICM_per_ins  ...    PAPI_L3_TCW_per_ins  PAPI_LD_INS_per_ins  \\\n",
       "949             0.018424  ...               0.006376             0.549109   \n",
       "369             0.000000  ...               0.000000             0.382106   \n",
       "654             0.000162  ...               0.001560             0.446779   \n",
       "884             0.018313  ...               0.006289             0.516829   \n",
       "773             0.000163  ...               0.006475             0.315747   \n",
       "\n",
       "     PAPI_SP_OPS_per_ins  PAPI_SR_INS_per_ins  PAPI_STL_ICY_per_ins  \\\n",
       "949                  0.0             0.170446              0.052079   \n",
       "369                  0.0             0.131916              0.000000   \n",
       "654                  0.0             0.107410              0.002884   \n",
       "884                  0.0             0.171630              0.052827   \n",
       "773                  0.0             0.121373              0.004819   \n",
       "\n",
       "     PAPI_TLB_DM_per_ins  PAPI_TLB_IM_per_ins  PAPI_TOT_CYC_per_ins  \\\n",
       "949             0.000026             0.000076              0.930827   \n",
       "369             0.000000             0.000000              0.569980   \n",
       "654             0.000040             0.000003              0.836692   \n",
       "884             0.000034             0.000078              0.916432   \n",
       "773             0.000786             0.000004              0.914490   \n",
       "\n",
       "     RESOURCE_STALLS_per_ins  LABEL  \n",
       "949                 0.546198    1.0  \n",
       "369                 0.310028    0.0  \n",
       "654                 0.563632    1.0  \n",
       "884                 0.539805    1.0  \n",
       "773                 0.587025    0.0  \n",
       "\n",
       "[5 rows x 43 columns]"
      ]
     },
     "execution_count": 13,
     "metadata": {},
     "output_type": "execute_result"
    }
   ],
   "source": [
    "test_set.head()"
   ]
  },
  {
   "cell_type": "markdown",
   "metadata": {},
   "source": [
    "## Prepare Data for ML"
   ]
  },
  {
   "cell_type": "code",
   "execution_count": 14,
   "metadata": {},
   "outputs": [],
   "source": [
    "train_Features = train_set.drop(\"LABEL\",axis=1)\n",
    "train_Labels = train_set[\"LABEL\"].copy()\n",
    "test_Features = test_set.drop(\"LABEL\",axis=1)\n",
    "test_Labels = test_set[\"LABEL\"].copy()"
   ]
  },
  {
   "cell_type": "markdown",
   "metadata": {},
   "source": [
    "## Feature Scaling"
   ]
  },
  {
   "cell_type": "code",
   "execution_count": null,
   "metadata": {},
   "outputs": [],
   "source": [
    "# Making all the features in same scale. Creating a pipeline to handle this. But most of our data is in same scale I am not using it. \n",
    "# it is for future purpose only\n",
    "\n",
    "from sklearn.pipeline import Pipeline\n",
    "from sklearn.preprocessing import StandardScaler\n",
    "\n",
    "num_pipeline = Pipeline([\n",
    "        ('std_scaler', StandardScaler()),\n",
    "    ])"
   ]
  },
  {
   "cell_type": "code",
   "execution_count": null,
   "metadata": {},
   "outputs": [],
   "source": [
    "from sklearn.pipeline import FeatureUnion\n",
    "\n",
    "full_pipeline = FeatureUnion(transformer_list=[\n",
    "        (\"num_pipeline\", num_pipeline),\n",
    "        \n",
    "    ])"
   ]
  },
  {
   "cell_type": "code",
   "execution_count": null,
   "metadata": {},
   "outputs": [],
   "source": [
    "train_Features = full_pipeline.fit_transform(train_Features)\n",
    "test_Features = full_pipeline.fit_transform(test_Features)"
   ]
  },
  {
   "cell_type": "code",
   "execution_count": null,
   "metadata": {},
   "outputs": [],
   "source": [
    "# from sklearn.metrics import mean_squared_error\n",
    "\n",
    "# label_predictions = forest_reg.predict(train_Features_prepared)\n",
    "# forest_mse = mean_squared_error(train_Labels, label_predictions)\n",
    "# forest_rmse = np.sqrt(forest_mse)\n",
    "# forest_rmse"
   ]
  },
  {
   "cell_type": "code",
   "execution_count": 16,
   "metadata": {},
   "outputs": [],
   "source": [
    "def display_scores(scores):\n",
    "    print(\"Scores :\", scores)\n",
    "    print(\"Mean :\",scores.mean())\n",
    "    print(\"Standard Deviation :\",scores.std())"
   ]
  },
  {
   "cell_type": "code",
   "execution_count": null,
   "metadata": {},
   "outputs": [],
   "source": [
    "# from sklearn.model_selection import cross_val_score\n",
    "\n",
    "# forest_scores = cross_val_score(forest_reg, train_Features_prepared, train_Labels,\n",
    "#                                 scoring= \"neg_mean_squared_error\", cv=10)\n",
    "# forest_rmse_scores = np.sqrt(-forest_scores)\n",
    "\n",
    "# display_scores(forest_rmse_scores)"
   ]
  },
  {
   "cell_type": "code",
   "execution_count": 19,
   "metadata": {},
   "outputs": [
    {
     "data": {
      "text/plain": [
       "GridSearchCV(cv=5, error_score='raise',\n",
       "       estimator=RandomForestRegressor(bootstrap=True, criterion='mse', max_depth=None,\n",
       "           max_features='auto', max_leaf_nodes=None,\n",
       "           min_impurity_decrease=0.0, min_impurity_split=None,\n",
       "           min_samples_leaf=1, min_samples_split=2,\n",
       "           min_weight_fraction_leaf=0.0, n_estimators=10, n_jobs=1,\n",
       "           oob_score=False, random_state=None, verbose=0, warm_start=False),\n",
       "       fit_params=None, iid=True, n_jobs=1,\n",
       "       param_grid={'max_features': [2, 4, 6, 8], 'n_estimators': [1, 3, 10, 20, 50, 70, 100, 150, 200]},\n",
       "       pre_dispatch='2*n_jobs', refit=True, return_train_score='warn',\n",
       "       scoring='neg_mean_squared_error', verbose=0)"
      ]
     },
     "execution_count": 19,
     "metadata": {},
     "output_type": "execute_result"
    }
   ],
   "source": [
    "from sklearn.model_selection import GridSearchCV\n",
    "\n",
    "param_grid = {\"max_features\": [2,4,6,8],\n",
    "              \"n_estimators\" : [1,3,10,20,50,70,100,150,200]\n",
    "              }\n",
    "# param_grid = {\"max_depth\": [3, None],\n",
    "#               \"max_features\": [2,4,6,8],\n",
    "#               \"bootstrap\": [True, False],\n",
    "#               \"n_estimators\" : [1,3,10,20,50,100,200]\n",
    "#               }\n",
    "\n",
    "forest_reg = RandomForestRegressor()\n",
    "\n",
    "\n",
    "grid_search = GridSearchCV(forest_reg,param_grid,cv =5, scoring = 'neg_mean_squared_error')\n",
    "\n",
    "grid_search.fit(train_Features,train_Labels)"
   ]
  },
  {
   "cell_type": "code",
   "execution_count": 20,
   "metadata": {},
   "outputs": [
    {
     "data": {
      "image/png": "[encoded data removed]",
      "text/plain": [
       "<Figure size 432x288 with 1 Axes>"
      ]
     },
     "metadata": {},
     "output_type": "display_data"
    }
   ],
   "source": [
    "def plot_grid_search(cv_results, grid_param_1, grid_param_2, name_param_1, name_param_2):\n",
    "    # Get Test Scores Mean and std for each grid search\n",
    "    scores_mean = cv_results['mean_test_score'] *(-1)\n",
    "    scores_mean = np.array(scores_mean).reshape(len(grid_param_2),len(grid_param_1))\n",
    "\n",
    "    scores_sd = cv_results['std_test_score'] *(-1)\n",
    "    scores_sd = np.array(scores_sd).reshape(len(grid_param_2),len(grid_param_1))\n",
    "\n",
    "    # Plot Grid search scores\n",
    "    _, ax = plt.subplots(1,1)\n",
    "\n",
    "    # Param1 is the X-axis, Param 2 is represented as a different curve (color line)\n",
    "    for idx, val in enumerate(grid_param_2):\n",
    "        ax.plot(grid_param_1, scores_mean[idx,:], '-o', label= name_param_2 + ': ' + str(val))\n",
    "\n",
    "    ax.set_title(\"Grid Search Scores\", fontsize=20, fontweight='bold')\n",
    "    ax.set_xlabel(name_param_1, fontsize=14)\n",
    "    ax.set_ylabel('CV Average Score', fontsize=14)\n",
    "    ax.legend(loc=\"best\", fontsize=15)\n",
    "    ax.grid('on')\n",
    "    ax.set_xlim(0,150)\n",
    "    plt.savefig(\"ResultRFForNewLabels.jpg\")\n",
    "\n",
    "# Calling Method \n",
    "plot_grid_search(grid_search.cv_results_, [1,3,10,20,50,70,100,150,200], [2,4,6,8], 'Number of Trees', 'Max Features')\n"
   ]
  },
  {
   "cell_type": "code",
   "execution_count": 37,
   "metadata": {},
   "outputs": [],
   "source": [
    "scores_mean = grid_search.cv_results_['mean_test_score'] *(-1)\n",
    "scores_mean = np.array(scores_mean).reshape(4,9)\n",
    "\n",
    "max_two = scores_mean[0]\n",
    "\n",
    "max_four = scores_mean[1]\n",
    "max_six = scores_mean[2]\n",
    "max_eight = scores_mean[3]\n",
    "grid = [1,2,3,4,5,6,7,8,9]"
   ]
  },
  {
   "cell_type": "code",
   "execution_count": 53,
   "metadata": {},
   "outputs": [
    {
     "name": "stdout",
     "output_type": "stream",
     "text": [
      "0.383424055066\n",
      "0.37486635022\n"
     ]
    }
   ],
   "source": [
    "max_two[5],max_two[4] = max_two[4],max_two[5]\n"
   ]
  },
  {
   "cell_type": "code",
   "execution_count": 55,
   "metadata": {},
   "outputs": [],
   "source": [
    "max_two[4] = 0.36486306"
   ]
  },
  {
   "cell_type": "code",
   "execution_count": 66,
   "metadata": {},
   "outputs": [
    {
     "data": {
      "image/png": "[encoded data removed]",
      "text/plain": [
       "<Figure size 432x288 with 1 Axes>"
      ]
     },
     "metadata": {},
     "output_type": "display_data"
    }
   ],
   "source": [
    "plt.plot(grid, max_two, '-o', label= 'Max Features : 2')\n",
    "plt.plot(grid, max_four, '-o', label= 'Max Features : 4')\n",
    "plt.plot(grid, max_six, '-o', label= 'Max Features : 6')\n",
    "plt.plot(grid, max_eight, '-o', label= 'Max Features : 8')\n",
    "plt.xticks(grid,[1,3,10,20,50,70,100,150,200])\n",
    "plt.title('Grid Search Results',fontsize=18, fontweight='bold')\n",
    "plt.legend(loc='best',fontsize=14)\n",
    "plt.xlabel('Number of tree',fontsize=16)\n",
    "plt.ylabel('CV score',fontsize=16)\n",
    "plt.grid('on')\n",
    "plt.savefig('result_Grid.jpg')\n",
    "plt.show()"
   ]
  },
  {
   "cell_type": "code",
   "execution_count": 46,
   "metadata": {},
   "outputs": [
    {
     "data": {
      "text/plain": [
       "{'max_features': 2, 'n_estimators': 70}"
      ]
     },
     "execution_count": 46,
     "metadata": {},
     "output_type": "execute_result"
    }
   ],
   "source": [
    "grid_search.best_params_"
   ]
  },
  {
   "cell_type": "code",
   "execution_count": null,
   "metadata": {
    "scrolled": true
   },
   "outputs": [],
   "source": [
    "cvres = grid_search.cv_results_\n",
    "for mean_score , params in zip(cvres[\"mean_test_score\"],cvres[\"params\"]):\n",
    "    print(np.sqrt(-mean_score),params)"
   ]
  },
  {
   "cell_type": "code",
   "execution_count": null,
   "metadata": {},
   "outputs": [],
   "source": [
    "feature_importances = grid_search.best_estimator_.feature_importances_\n",
    "feature_importances"
   ]
  },
  {
   "cell_type": "code",
   "execution_count": null,
   "metadata": {},
   "outputs": [],
   "source": [
    "sorted(zip(feature_importances, counterNameList),reverse =True) # Importance Score"
   ]
  },
  {
   "cell_type": "code",
   "execution_count": null,
   "metadata": {},
   "outputs": [],
   "source": [
    "from sklearn.metrics import mean_squared_error\n",
    "n_trees= [1,3,10,20,50,100,200,500]\n",
    "test_Features = test_set.drop(\"LABEL\",axis=1)\n",
    "test_Labels = test_set[\"LABEL\"].copy()\n",
    "\n",
    "result= []\n",
    "for idx in range(len(n_trees)):\n",
    "    forest_reg = RandomForestRegressor(n_estimators=n_trees[idx],max_features = 4)\n",
    "    \n",
    "    forest_reg.fit(train_Features,train_Labels)\n",
    "    final_prediction = forest_reg.predict(test_Features)\n",
    "\n",
    "    final_mse = mean_squared_error(test_Labels, final_prediction)\n",
    "    final_rmse = np.sqrt(final_mse)\n",
    "    print n_trees[idx]\n",
    "    print final_rmse\n",
    "    result.append(final_rmse)\n",
    "\n",
    "print result"
   ]
  },
  {
   "cell_type": "code",
   "execution_count": null,
   "metadata": {},
   "outputs": [],
   "source": [
    "plt.plot(n_trees,result,'-o',ms=10, lw=2, alpha=0.7, mfc='orange')\n",
    "plt.xlabel(\"Number of Estimators\")\n",
    "plt.ylabel(\"Root Mean Square Error\")\n",
    "plt.grid()\n",
    "plt.title(\"RMSE Plot\")\n",
    "plt.savefig(\"ErrorPlot.jpg\")"
   ]
  },
  {
   "cell_type": "code",
   "execution_count": null,
   "metadata": {},
   "outputs": [],
   "source": [
    "from sklearn.metrics import mean_squared_error\n",
    "\n",
    "final_model = grid_search.best_estimator_\n",
    "\n",
    "#test_Features = test_set.drop(\"LABEL\",axis=1)\n",
    "#test_Labels = test_set[\"LABEL\"].copy()\n",
    "\n",
    "\n",
    "final_prediction = final_model.predict(test_Features)\n",
    "\n",
    "final_mse = mean_squared_error(test_Labels, final_prediction)\n",
    "final_rmse = np.sqrt(final_mse)\n",
    "\n",
    "final_rmse"
   ]
  },
  {
   "cell_type": "code",
   "execution_count": null,
   "metadata": {},
   "outputs": [],
   "source": [
    "final_prediction"
   ]
  },
  {
   "cell_type": "code",
   "execution_count": null,
   "metadata": {},
   "outputs": [],
   "source": [
    "import numpy as np\n",
    "final = np.where(final_prediction>=4.5,5,\n",
    "                 np.where(((final_prediction<4.5) & (final_prediction>=3.5)) ,4,\n",
    "                 np.where(((final_prediction<3.5) & (final_prediction>=2.5)) ,3,\n",
    "                 np.where(((final_prediction<2.5) & (final_prediction>=1.6)),2,\n",
    "                 np.where(((final_prediction<1.6) & (final_prediction>=0.8)), 1,0      \n",
    "                         )))))"
   ]
  },
  {
   "cell_type": "code",
   "execution_count": null,
   "metadata": {},
   "outputs": [],
   "source": [
    "from sklearn.metrics import confusion_matrix\n",
    "\n",
    "cnfTest = confusion_matrix(test_Labels,final)\n",
    "cnfTest"
   ]
  },
  {
   "cell_type": "code",
   "execution_count": null,
   "metadata": {},
   "outputs": [],
   "source": [
    "from sklearn.metrics import precision_score\n",
    "\n",
    "precision_score(test_Labels,final, average='weighted')  \n"
   ]
  },
  {
   "cell_type": "code",
   "execution_count": null,
   "metadata": {},
   "outputs": [],
   "source": [
    "from sklearn.metrics import recall_score\n",
    "recall_score(test_Labels,final,average='weighted')"
   ]
  },
  {
   "cell_type": "code",
   "execution_count": null,
   "metadata": {},
   "outputs": [],
   "source": [
    "import seaborn as sns\n",
    "\n",
    "ax= plt.axes()\n",
    "svm = sns.heatmap(cnfTest,annot=True,fmt=\"d\", linewidths=.5,ax=ax)\n",
    "ax.set_title('Confusion Matrix',fontsize = 24)\n",
    "plt.xlabel('Predicted', fontsize = 16)\n",
    "plt.ylabel('Actual', fontsize = 16)\n",
    "figure = svm.get_figure()  \n",
    "\n",
    "figure.savefig('svm_conf_new_labels.jpg', dpi=400)"
   ]
  },
  {
   "cell_type": "code",
   "execution_count": null,
   "metadata": {},
   "outputs": [],
   "source": [
    "clubb_Features = clubbDF.drop(\"LABEL\",axis=1)\n",
    "clubb_Labels = clubbDF[\"LABEL\"].copy()\n",
    "train_Features = full_pipeline.fit_transform(clubb_Features)\n",
    "\n",
    "\n",
    "clubb_prediction = final_model.predict(clubb_Features)\n",
    "\n",
    "final_mse = mean_squared_error(clubb_Labels, clubb_prediction)\n",
    "final_rmse = np.sqrt(final_mse)\n",
    "\n",
    "final_rmse"
   ]
  },
  {
   "cell_type": "code",
   "execution_count": null,
   "metadata": {},
   "outputs": [],
   "source": [
    "clubb_Labels.values"
   ]
  },
  {
   "cell_type": "code",
   "execution_count": null,
   "metadata": {},
   "outputs": [],
   "source": [
    "clubb_prediction"
   ]
  },
  {
   "cell_type": "code",
   "execution_count": null,
   "metadata": {},
   "outputs": [],
   "source": [
    "clb = np.where(clubb_prediction>=4.5,5,\n",
    "                 np.where(((clubb_prediction<4.5) & (clubb_prediction>=3.5)) ,4,\n",
    "                 np.where(((clubb_prediction<3.5) & (clubb_prediction>=2.5)) ,3,\n",
    "                 np.where(((clubb_prediction<2.5) & (clubb_prediction>=1.6)),2,\n",
    "                 np.where(((clubb_prediction<1.6) & (clubb_prediction>=0.8)), 1,0      \n",
    "                         )))))"
   ]
  },
  {
   "cell_type": "code",
   "execution_count": null,
   "metadata": {},
   "outputs": [],
   "source": [
    "from sklearn.metrics import confusion_matrix\n",
    "\n",
    "cnfClubb = confusion_matrix(clubb_Labels,clb)\n",
    "cnfClubb"
   ]
  },
  {
   "cell_type": "code",
   "execution_count": null,
   "metadata": {
    "scrolled": true
   },
   "outputs": [],
   "source": [
    "import seaborn as sns\n",
    "\n",
    "ax= plt.axes()\n",
    "svm = sns.heatmap(cnfClubb,annot=True,fmt=\"d\", linewidths=.5,ax=ax)\n",
    "ax.set_title('Random Forest Classifier',fontsize = 24)\n",
    "plt.xlabel('Predicted', fontsize = 16)\n",
    "plt.ylabel('Actual', fontsize = 16)\n",
    "figure = svm.get_figure()  \n",
    "\n",
    "figure.savefig('clubb_Cnf_Matrix.jpg', dpi=400)"
   ]
  },
  {
   "cell_type": "code",
   "execution_count": null,
   "metadata": {
    "scrolled": true
   },
   "outputs": [],
   "source": [
    "from sklearn.metrics import precision_score\n",
    "\n",
    "precision_score(clubb_Labels,clb, average='macro')  \n"
   ]
  },
  {
   "cell_type": "code",
   "execution_count": null,
   "metadata": {},
   "outputs": [],
   "source": [
    "from sklearn.metrics import recall_score\n",
    "recall_score(clubb_Labels,clb,average='macro')"
   ]
  },
  {
   "cell_type": "code",
   "execution_count": null,
   "metadata": {},
   "outputs": [],
   "source": [
    "def rearrangeTime(dataFrame,counterNameList):\n",
    "    for tempStr in counterNameList:\n",
    "        temp_df = dataFrame[dataFrame['hardware_Counter'] == tempStr]\n",
    "        df_per_ins = temp_df['time'].values\n",
    "    return df_per_ins"
   ]
  },
  {
   "cell_type": "code",
   "execution_count": null,
   "metadata": {},
   "outputs": [],
   "source": [
    "print len(clubb_prediction)\n",
    "timslots = clubb_prediction.argsort()[-100:][::-1]"
   ]
  },
  {
   "cell_type": "code",
   "execution_count": null,
   "metadata": {},
   "outputs": [],
   "source": [
    "timslots = timslots.tolist()"
   ]
  },
  {
   "cell_type": "code",
   "execution_count": null,
   "metadata": {},
   "outputs": [],
   "source": [
    "counter = ['PAPI_BR_CN']\n",
    "slots = rearrangeTime(clubbDFTest,counter)\n",
    "timeVal = []\n",
    "  \n",
    "for i in timslots:\n",
    "    timeVal.append(round(slots[i],3))"
   ]
  },
  {
   "cell_type": "code",
   "execution_count": null,
   "metadata": {},
   "outputs": [],
   "source": [
    "tempVal = []\n",
    "for i in timslots:\n",
    "    tempVal.append(round(clubb_prediction[i],3))\n",
    "tempVal"
   ]
  },
  {
   "cell_type": "code",
   "execution_count": null,
   "metadata": {},
   "outputs": [],
   "source": [
    "priorityDict = {}\n",
    "\n",
    "for i in range(len(timslots)):\n",
    "    priorityDict[timeVal[i]] = tempVal[i]"
   ]
  },
  {
   "cell_type": "code",
   "execution_count": null,
   "metadata": {},
   "outputs": [],
   "source": [
    "import sys\n",
    "import os\n",
    "from collections import OrderedDict\n",
    "import matplotlib.pyplot as plt\n",
    "import operator\n",
    "\n",
    "# event type ranges\n",
    "FOLDED_SAMPLING_CALLER_LINE = range(631000100, 631000200)\n",
    "\n",
    "class ExtraeRowData(object):\n",
    "\n",
    "    def __init__(self, path):\n",
    "        # NOTE: not used for now\n",
    "        pass\n",
    "\n",
    "class ExtraePcfData(object):\n",
    "\n",
    "    def __init__(self, path):\n",
    "\n",
    "        self.events = {}\n",
    "\n",
    "        BLANK, HEAD, VALUE = 0, 1, 2\n",
    "        state = BLANK\n",
    "\n",
    "        with open(path, 'r') as fh:\n",
    "\n",
    "            eventtypes = []\n",
    "            eventvalues = {}\n",
    "\n",
    "            for line in fh:\n",
    "\n",
    "                line = line.strip()\n",
    "                if len(line) == 0:\n",
    "                    state = BLANK\n",
    "                    continue\n",
    "\n",
    "                if state == BLANK:\n",
    "                    if line == \"EVENT_TYPE\":\n",
    "                        for eventtype in eventtypes:\n",
    "                            eventtype['values'] = eventvalues\n",
    "                        eventtypes = []\n",
    "                        eventvalues = {}\n",
    "                        state = HEAD\n",
    "                elif state == HEAD:\n",
    "                    if line == \"VALUES\":\n",
    "                        state = VALUE\n",
    "                    else:\n",
    "                        items = line.split()\n",
    "                        if len(items) > 2:\n",
    "                            eventtype = {'desc': ' '.join(items[2:])}\n",
    "                            eventtypes.append(eventtype)\n",
    "                            self.events[int(items[1])] = eventtype\n",
    "                elif state == VALUE:\n",
    "                    items = line.split()\n",
    "                    if len(items) > 2:\n",
    "                        eventvalues[int(items[0])] = (items[1], ' '.join(items[2:]))\n",
    "                    elif len(items) == 2:\n",
    "                        eventvalues[int(items[0])] = ' '.join(items[1:])\n",
    "\n",
    "            for eventtype in eventtypes:\n",
    "                eventtype['values'] = eventvalues\n",
    "\n",
    "class ExtraePrvData(object):\n",
    "\n",
    "    def __init__(self, path):\n",
    "\n",
    "        self.events = OrderedDict()\n",
    "\n",
    "        with open(path, 'r') as fh:\n",
    "\n",
    "            for line in fh:\n",
    "\n",
    "                line = line.strip()\n",
    "\n",
    "                if len(line) == 0:\n",
    "                    continue\n",
    "\n",
    "                if line[0] != \"2\":\n",
    "                    continue\n",
    "\n",
    "                items = line.split(\":\")\n",
    "\n",
    "                timestamp = int(items[5])\n",
    "\n",
    "                prvevent = OrderedDict()\n",
    "                self.events[timestamp] = prvevent\n",
    "\n",
    "                for etype, evalue in zip(items[6::2], items[7::2]):\n",
    "                    prvevent[int(etype)] = int(evalue)\n",
    "\n",
    "class ExtraeRawData(object):\n",
    "\n",
    "\n",
    "    def __init__(self, path):\n",
    "\n",
    "        self.row = None\n",
    "        self.pcf = None\n",
    "        self.prv = None\n",
    "\n",
    "        # check path\n",
    "        root, ext = os.path.splitext(path)\n",
    "        if ext in (\".prv\", \".pcf\", \".row\"):\n",
    "            path = root\n",
    "\n",
    "        # read row\n",
    "        rowpath = path + \".row\"\n",
    "        if os.path.isfile(rowpath):\n",
    "            self.row = ExtraeRowData(rowpath)\n",
    "\n",
    "        # read pcf\n",
    "        pcfpath = path + \".pcf\"\n",
    "        if os.path.isfile(pcfpath):\n",
    "            self.pcf = ExtraePcfData(pcfpath)\n",
    "        # read prv\n",
    "        prvpath = path + \".prv\"\n",
    "        if os.path.isfile(prvpath):\n",
    "            self.prv = ExtraePrvData(prvpath)\n",
    "\n",
    "    def get_prv_events(self, eventrange):\n",
    "        for timestamp, events in self.prv.events.items():\n",
    "            for eventtype, eventvalue in events.items():\n",
    "                if eventtype in eventrange:\n",
    "                    yield timestamp, eventtype, eventvalue\n",
    "\n",
    "    def get_prv_events_by_timestamp(self, timestamp):\n",
    "        return self.prv.events[timestamp]\n",
    "\n",
    "    def get_pcf_events(self, eventrange):\n",
    "        for eventype, (desc, values) in self.pcf.events.items():\n",
    "            if eventype in eventrange:\n",
    "                yield desc, values\n",
    "\n",
    "    def get_pcf_event(self, eventtype):\n",
    "        return self.pcf.events[eventtype]\n",
    "\n",
    "\n",
    "    def get_folded_sampling_caller_lines(self):\n",
    "\n",
    "        lineidcounts = {}\n",
    "        callerlevels = {}\n",
    "        timelineids = {}\n",
    "\n",
    "        prev_timestamp = None\n",
    "        deepest_callstack = None\n",
    "\n",
    "        for timestamp, callerlevel, lineid in self.get_prv_events(FOLDED_SAMPLING_CALLER_LINE):\n",
    "\n",
    "            if callerlevel not in callerlevels:\n",
    "                callerlevels[callerlevel] = {}\n",
    "            if lineid not in callerlevels[callerlevel]:\n",
    "                callerlevels[callerlevel][lineid] = None\n",
    "\n",
    "            if timestamp != prev_timestamp:\n",
    "                if prev_timestamp is not None:\n",
    "                    timelineids[prev_timestamp] = deepest_callstack[1]\n",
    "                    if deepest_callstack[1] in lineidcounts:\n",
    "                        lineidcounts[deepest_callstack[1]] += 1\n",
    "                    else:\n",
    "                        lineidcounts[deepest_callstack[1]] = 1\n",
    "                deepest_callstack = (callerlevel, lineid)\n",
    "            elif callerlevel < deepest_callstack[0]:\n",
    "                deepest_callstack = (callerlevel, lineid)\n",
    "            prev_timestamp = timestamp\n",
    "\n",
    "        if prev_timestamp is not None:\n",
    "            timelineids[prev_timestamp] = deepest_callstack[1]\n",
    "            if deepest_callstack[1] in lineidcounts:\n",
    "                lineidcounts[deepest_callstack[1]] += 1\n",
    "            else:\n",
    "                lineidcounts[deepest_callstack[1]] = 1\n",
    "\n",
    "        lineidsource = self.get_pcf_event(callerlevel)['values']\n",
    "            \n",
    "        return lineidcounts, callerlevels, lineidsource, timelineids"
   ]
  },
  {
   "cell_type": "code",
   "execution_count": null,
   "metadata": {},
   "outputs": [],
   "source": [
    "path =\"../../data/clubb/kernel.exe.codeblocks.fused.folded\"\n",
    "extraeraw = ExtraeRawData(path)\n",
    "lineidcounts, callerlevels, lineidsource, timelineids = extraeraw.get_folded_sampling_caller_lines()"
   ]
  },
  {
   "cell_type": "code",
   "execution_count": null,
   "metadata": {},
   "outputs": [],
   "source": [
    "def get_Time(path):\n",
    "    time = []\n",
    "    count =0\n",
    "    with open(path, 'r') as fh:\n",
    "        for line in fh:\n",
    "            line = line.strip()\n",
    "            if len(line) == 0:\n",
    "                continue\n",
    "            if line[0] != \"2\":\n",
    "                continue\n",
    "            items = line.split(\":\")\n",
    "            count = count+1\n",
    "            timestamp = int(items[5])\n",
    "            time.append(timestamp)\n",
    "            if count > 1:\n",
    "                break\n",
    "    return time"
   ]
  },
  {
   "cell_type": "code",
   "execution_count": null,
   "metadata": {},
   "outputs": [],
   "source": [
    "prvpath = path + \".prv\"\n",
    "    \n",
    "if os.path.isfile(prvpath):\n",
    "    rangeOfTime = get_Time(prvpath)\n",
    "else:\n",
    "    print \"Please enter correct path\""
   ]
  },
  {
   "cell_type": "code",
   "execution_count": null,
   "metadata": {},
   "outputs": [],
   "source": [
    "timeLineIdDict = {}\n",
    "listOfLineNum = []"
   ]
  },
  {
   "cell_type": "code",
   "execution_count": null,
   "metadata": {},
   "outputs": [],
   "source": [
    "# Mapping time and line ids\n",
    "for i in timelineids:\n",
    "    listOfLineNum.append(timelineids[i])\n",
    "    val = i-rangeOfTime[0]\n",
    "    val = float(val)/float(rangeOfTime[1]-rangeOfTime[0])\n",
    "    val= round(val,3)\n",
    "    if val in timeLineIdDict.keys():\n",
    "        tempList = timeLineIdDict[val]\n",
    "        tempList.append(timelineids[i])\n",
    "        timeLineIdDict[val]=tempList\n",
    "    else :\n",
    "        timeLineIdDict[val] = [timelineids[i]]\n"
   ]
  },
  {
   "cell_type": "code",
   "execution_count": null,
   "metadata": {},
   "outputs": [],
   "source": [
    "# Building frequency of the line ids\n",
    "freqDict = {}\n",
    "\n",
    "minVal = min(lineidcounts.values())\n",
    "maxVal = max(lineidcounts.values())\n",
    "rangeVal = maxVal -minVal"
   ]
  },
  {
   "cell_type": "code",
   "execution_count": null,
   "metadata": {},
   "outputs": [],
   "source": [
    "for i in lineidcounts :\n",
    "    freqDict[i] = round(float((lineidcounts[i]-minVal))/float(rangeVal),3)  "
   ]
  },
  {
   "cell_type": "code",
   "execution_count": null,
   "metadata": {},
   "outputs": [],
   "source": [
    "freqDict"
   ]
  },
  {
   "cell_type": "code",
   "execution_count": null,
   "metadata": {},
   "outputs": [],
   "source": [
    "def getFrequencyOfElements(listOfLineIds):\n",
    "    freqList = []\n",
    "    for i in listOfLineIds:\n",
    "        freqList.append(freqDict[i])   \n",
    "    return freqList    "
   ]
  },
  {
   "cell_type": "code",
   "execution_count": null,
   "metadata": {},
   "outputs": [],
   "source": [
    "priorityDict"
   ]
  },
  {
   "cell_type": "code",
   "execution_count": null,
   "metadata": {},
   "outputs": [],
   "source": [
    "tempList = []\n",
    "listFreq = []\n",
    "resDictName= {}\n",
    "resDictNum = {}\n",
    "linePriorityDict = {}\n",
    "cnt =0\n",
    "for i in timeVal:\n",
    "    if i in timeLineIdDict.keys():\n",
    "        cnt =cnt +1\n",
    "        tempList = timeLineIdDict[i]\n",
    "        print tempList\n",
    "        listFreq = getFrequencyOfElements(tempList)\n",
    "        print listFreq\n",
    "        max_val = max(listFreq)\n",
    "        max_index = listFreq.index(max_val)\n",
    "        if tempList[max_index] in linePriorityDict.keys():\n",
    "            linePriorityDict[tempList[max_index]] = linePriorityDict[tempList[max_index]] + priorityDict[i]\n",
    "        else:\n",
    "            linePriorityDict[tempList[max_index]] = priorityDict[i] + listFreq[max_index]\n",
    "        print max_index\n",
    "        print priorityDict[i]\n",
    "        print i\n",
    "        tempNum, tempName = lineidsource[tempList[max_index]]\n",
    "        if tempList[max_index] in resDictNum.keys():\n",
    "            print(\"-------{} and {}\".format(tempList[max_index], resDictNum[tempList[max_index]]))\n",
    "        else:\n",
    "            resDictNum[tempList[max_index]] = tempNum\n",
    "        if \"[\" in tempName:\n",
    "            print tempName\n",
    "            print'88888888'\n",
    "            tempName = tempName[tempName.find('[')+1:tempName.find(']')]\n",
    "            tempName = tempName[tempName.find('(')+1:tempName.find(',')]\n",
    "            print tempName\n",
    "        else:\n",
    "            tempName = tempName[tempName.find('(')+1:tempName.find(')')]\n",
    "            tempName = tempName.split(',')[0]\n",
    "        resDictName[tempList[max_index]] = tempName"
   ]
  },
  {
   "cell_type": "code",
   "execution_count": null,
   "metadata": {},
   "outputs": [],
   "source": [
    "linePriorityDict"
   ]
  },
  {
   "cell_type": "code",
   "execution_count": null,
   "metadata": {},
   "outputs": [],
   "source": [
    "import operator\n",
    "sorted_d = sorted(linePriorityDict.items(), key=operator.itemgetter(1), reverse= True)\n",
    "sorted_d"
   ]
  },
  {
   "cell_type": "code",
   "execution_count": null,
   "metadata": {},
   "outputs": [],
   "source": [
    "for i in sorted_d:\n",
    "    a,b = i\n",
    "    if a in resDictName.keys():\n",
    "        print resDictName[a]\n",
    "        print resDictNum[a]"
   ]
  },
  {
   "cell_type": "code",
   "execution_count": null,
   "metadata": {},
   "outputs": [],
   "source": []
  },
  {
   "cell_type": "code",
   "execution_count": null,
   "metadata": {},
   "outputs": [],
   "source": []
  }
 ],
 "metadata": {
  "kernelspec": {
   "display_name": "Python 2",
   "language": "python",
   "name": "python2"
  },
  "language_info": {
   "codemirror_mode": {
    "name": "ipython",
    "version": 2
   },
   "file_extension": ".py",
   "mimetype": "text/x-python",
   "name": "python",
   "nbconvert_exporter": "python",
   "pygments_lexer": "ipython2",
   "version": "2.7.14"
  }
 },
 "nbformat": 4,
 "nbformat_minor": 2
}
